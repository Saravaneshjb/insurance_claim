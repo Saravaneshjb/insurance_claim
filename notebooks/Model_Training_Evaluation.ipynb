{
 "cells": [
  {
   "cell_type": "code",
   "execution_count": 55,
   "id": "bb446986",
   "metadata": {},
   "outputs": [],
   "source": [
    "import pandas as pd\n",
    "import numpy as np\n",
    "import seaborn as sns\n",
    "import matplotlib.pyplot as plt\n",
    "import catboost as cb\n",
    "from sklearn.model_selection import train_test_split\n",
    "from sklearn.metrics import accuracy_score,f1_score,confusion_matrix"
   ]
  },
  {
   "cell_type": "code",
   "execution_count": 9,
   "id": "32f75a60",
   "metadata": {},
   "outputs": [],
   "source": [
    "df=pd.read_csv('train_Inceptez20.csv')"
   ]
  },
  {
   "cell_type": "code",
   "execution_count": 39,
   "id": "92eb4ec0",
   "metadata": {},
   "outputs": [],
   "source": [
    "df.drop('policy_id',axis=1,inplace=True)"
   ]
  },
  {
   "cell_type": "code",
   "execution_count": 40,
   "id": "8ebb8f4d",
   "metadata": {},
   "outputs": [],
   "source": [
    "X=df.iloc[:,:-1]\n",
    "y=df.iloc[:,-1]"
   ]
  },
  {
   "cell_type": "code",
   "execution_count": 41,
   "id": "8eb3a225",
   "metadata": {},
   "outputs": [
    {
     "data": {
      "text/plain": [
       "(50000, 42)"
      ]
     },
     "execution_count": 41,
     "metadata": {},
     "output_type": "execute_result"
    }
   ],
   "source": [
    "X.shape"
   ]
  },
  {
   "cell_type": "code",
   "execution_count": 42,
   "id": "313b489f",
   "metadata": {},
   "outputs": [
    {
     "data": {
      "text/plain": [
       "(50000,)"
      ]
     },
     "execution_count": 42,
     "metadata": {},
     "output_type": "execute_result"
    }
   ],
   "source": [
    "y.shape"
   ]
  },
  {
   "cell_type": "code",
   "execution_count": 43,
   "id": "4e2ea302",
   "metadata": {},
   "outputs": [],
   "source": [
    "X_train,X_test,y_train,y_test=train_test_split(X,y,test_size=0.25,random_state=43,stratify=df['is_claim'])"
   ]
  },
  {
   "cell_type": "code",
   "execution_count": 44,
   "id": "6d286e5b",
   "metadata": {},
   "outputs": [
    {
     "name": "stdout",
     "output_type": "stream",
     "text": [
      "X_train shape : (37500, 42)\n",
      "X_test shape : (12500, 42)\n",
      "Y_train shape: (37500,)\n",
      "Y_test shape : (12500,)\n"
     ]
    }
   ],
   "source": [
    "print('X_train shape :',X_train.shape)\n",
    "print('X_test shape :',X_test.shape)\n",
    "print('Y_train shape:',y_train.shape)\n",
    "print('Y_test shape :',y_test.shape)"
   ]
  },
  {
   "cell_type": "code",
   "execution_count": 45,
   "id": "48981656",
   "metadata": {},
   "outputs": [
    {
     "data": {
      "text/plain": [
       "0.9354133333333333"
      ]
     },
     "execution_count": 45,
     "metadata": {},
     "output_type": "execute_result"
    }
   ],
   "source": [
    "y_train[y_train==0].count()/len(y_train)"
   ]
  },
  {
   "cell_type": "code",
   "execution_count": 46,
   "id": "32121d03",
   "metadata": {},
   "outputs": [
    {
     "data": {
      "text/plain": [
       "0.06458666666666667"
      ]
     },
     "execution_count": 46,
     "metadata": {},
     "output_type": "execute_result"
    }
   ],
   "source": [
    "y_train[y_train==1].count()/len(y_train)"
   ]
  },
  {
   "cell_type": "code",
   "execution_count": 70,
   "id": "316823aa",
   "metadata": {},
   "outputs": [
    {
     "data": {
      "text/plain": [
       "0    35078\n",
       "1     2422\n",
       "Name: is_claim, dtype: int64"
      ]
     },
     "execution_count": 70,
     "metadata": {},
     "output_type": "execute_result"
    }
   ],
   "source": [
    "y_train.value_counts()"
   ]
  },
  {
   "cell_type": "markdown",
   "id": "c4c6c7f1",
   "metadata": {},
   "source": [
    "## Catboost Iteration 1"
   ]
  },
  {
   "cell_type": "code",
   "execution_count": 104,
   "id": "2d49258c",
   "metadata": {},
   "outputs": [],
   "source": [
    "# cb_1=cb.CatBoostClassifier(scale_pos_weight=5,class_weights=[1,10])\n",
    "# cb_1=cb.CatBoostClassifier(class_weights=[1,10])\n",
    "# cb_1=cb.CatBoostClassifier(scale_pos_weight=20)\n",
    "# cb_1=cb.CatBoostClassifier(scale_pos_weight=30)\n",
    "# cb_1=cb.CatBoostClassifier(class_weights=[1,15])\n",
    "cb_1=cb.CatBoostClassifier(class_weights=[1,25])"
   ]
  },
  {
   "cell_type": "code",
   "execution_count": 105,
   "id": "a536efbc",
   "metadata": {},
   "outputs": [
    {
     "name": "stdout",
     "output_type": "stream",
     "text": [
      "Learning rate set to 0.048422\n",
      "0:\tlearn: 0.6867656\ttotal: 123ms\tremaining: 2m 2s\n",
      "1:\tlearn: 0.6835768\ttotal: 247ms\tremaining: 2m 3s\n",
      "2:\tlearn: 0.6775956\ttotal: 374ms\tremaining: 2m 4s\n",
      "3:\tlearn: 0.6735388\ttotal: 501ms\tremaining: 2m 4s\n",
      "4:\tlearn: 0.6694222\ttotal: 624ms\tremaining: 2m 4s\n",
      "5:\tlearn: 0.6673790\ttotal: 660ms\tremaining: 1m 49s\n",
      "6:\tlearn: 0.6625897\ttotal: 786ms\tremaining: 1m 51s\n",
      "7:\tlearn: 0.6584777\ttotal: 914ms\tremaining: 1m 53s\n",
      "8:\tlearn: 0.6560492\ttotal: 1.03s\tremaining: 1m 53s\n",
      "9:\tlearn: 0.6546260\ttotal: 1.13s\tremaining: 1m 52s\n",
      "10:\tlearn: 0.6517041\ttotal: 1.25s\tremaining: 1m 52s\n",
      "11:\tlearn: 0.6506078\ttotal: 1.34s\tremaining: 1m 50s\n",
      "12:\tlearn: 0.6478377\ttotal: 1.46s\tremaining: 1m 51s\n",
      "13:\tlearn: 0.6454020\ttotal: 1.58s\tremaining: 1m 51s\n",
      "14:\tlearn: 0.6435185\ttotal: 1.72s\tremaining: 1m 52s\n",
      "15:\tlearn: 0.6428119\ttotal: 1.75s\tremaining: 1m 47s\n",
      "16:\tlearn: 0.6417100\ttotal: 1.84s\tremaining: 1m 46s\n",
      "17:\tlearn: 0.6398186\ttotal: 1.96s\tremaining: 1m 47s\n",
      "18:\tlearn: 0.6385489\ttotal: 2.07s\tremaining: 1m 47s\n",
      "19:\tlearn: 0.6380670\ttotal: 2.11s\tremaining: 1m 43s\n",
      "20:\tlearn: 0.6367776\ttotal: 2.23s\tremaining: 1m 43s\n",
      "21:\tlearn: 0.6358004\ttotal: 2.32s\tremaining: 1m 43s\n",
      "22:\tlearn: 0.6341333\ttotal: 2.45s\tremaining: 1m 43s\n",
      "23:\tlearn: 0.6323349\ttotal: 2.56s\tremaining: 1m 44s\n",
      "24:\tlearn: 0.6319833\ttotal: 2.61s\tremaining: 1m 41s\n",
      "25:\tlearn: 0.6313373\ttotal: 2.73s\tremaining: 1m 42s\n",
      "26:\tlearn: 0.6301358\ttotal: 2.86s\tremaining: 1m 43s\n",
      "27:\tlearn: 0.6289798\ttotal: 2.98s\tremaining: 1m 43s\n",
      "28:\tlearn: 0.6285330\ttotal: 3.03s\tremaining: 1m 41s\n",
      "29:\tlearn: 0.6279832\ttotal: 3.1s\tremaining: 1m 40s\n",
      "30:\tlearn: 0.6270199\ttotal: 3.22s\tremaining: 1m 40s\n",
      "31:\tlearn: 0.6268806\ttotal: 3.29s\tremaining: 1m 39s\n",
      "32:\tlearn: 0.6267497\ttotal: 3.33s\tremaining: 1m 37s\n",
      "33:\tlearn: 0.6261108\ttotal: 3.46s\tremaining: 1m 38s\n",
      "34:\tlearn: 0.6256590\ttotal: 3.56s\tremaining: 1m 38s\n",
      "35:\tlearn: 0.6248492\ttotal: 3.63s\tremaining: 1m 37s\n",
      "36:\tlearn: 0.6246029\ttotal: 3.72s\tremaining: 1m 36s\n",
      "37:\tlearn: 0.6242199\ttotal: 3.83s\tremaining: 1m 36s\n",
      "38:\tlearn: 0.6239122\ttotal: 3.95s\tremaining: 1m 37s\n",
      "39:\tlearn: 0.6235596\ttotal: 4.06s\tremaining: 1m 37s\n",
      "40:\tlearn: 0.6228625\ttotal: 4.18s\tremaining: 1m 37s\n",
      "41:\tlearn: 0.6225826\ttotal: 4.28s\tremaining: 1m 37s\n",
      "42:\tlearn: 0.6219027\ttotal: 4.4s\tremaining: 1m 37s\n",
      "43:\tlearn: 0.6215398\ttotal: 4.51s\tremaining: 1m 38s\n",
      "44:\tlearn: 0.6215027\ttotal: 4.55s\tremaining: 1m 36s\n",
      "45:\tlearn: 0.6207943\ttotal: 4.67s\tremaining: 1m 36s\n",
      "46:\tlearn: 0.6206852\ttotal: 4.75s\tremaining: 1m 36s\n",
      "47:\tlearn: 0.6204707\ttotal: 4.83s\tremaining: 1m 35s\n",
      "48:\tlearn: 0.6203640\ttotal: 4.88s\tremaining: 1m 34s\n",
      "49:\tlearn: 0.6202232\ttotal: 4.97s\tremaining: 1m 34s\n",
      "50:\tlearn: 0.6201204\ttotal: 5.05s\tremaining: 1m 33s\n",
      "51:\tlearn: 0.6199141\ttotal: 5.16s\tremaining: 1m 34s\n",
      "52:\tlearn: 0.6193292\ttotal: 5.29s\tremaining: 1m 34s\n",
      "53:\tlearn: 0.6192830\ttotal: 5.4s\tremaining: 1m 34s\n",
      "54:\tlearn: 0.6191669\ttotal: 5.47s\tremaining: 1m 33s\n",
      "55:\tlearn: 0.6190545\ttotal: 5.52s\tremaining: 1m 33s\n",
      "56:\tlearn: 0.6186942\ttotal: 5.63s\tremaining: 1m 33s\n",
      "57:\tlearn: 0.6186846\ttotal: 5.67s\tremaining: 1m 32s\n",
      "58:\tlearn: 0.6182731\ttotal: 5.78s\tremaining: 1m 32s\n",
      "59:\tlearn: 0.6181671\ttotal: 5.89s\tremaining: 1m 32s\n",
      "60:\tlearn: 0.6176131\ttotal: 6.02s\tremaining: 1m 32s\n",
      "61:\tlearn: 0.6173492\ttotal: 6.15s\tremaining: 1m 33s\n",
      "62:\tlearn: 0.6170149\ttotal: 6.26s\tremaining: 1m 33s\n",
      "63:\tlearn: 0.6169506\ttotal: 6.33s\tremaining: 1m 32s\n",
      "64:\tlearn: 0.6167179\ttotal: 6.41s\tremaining: 1m 32s\n",
      "65:\tlearn: 0.6166558\ttotal: 6.46s\tremaining: 1m 31s\n",
      "66:\tlearn: 0.6164860\ttotal: 6.57s\tremaining: 1m 31s\n",
      "67:\tlearn: 0.6159831\ttotal: 6.71s\tremaining: 1m 31s\n",
      "68:\tlearn: 0.6159076\ttotal: 6.79s\tremaining: 1m 31s\n",
      "69:\tlearn: 0.6157766\ttotal: 6.9s\tremaining: 1m 31s\n",
      "70:\tlearn: 0.6153122\ttotal: 7s\tremaining: 1m 31s\n",
      "71:\tlearn: 0.6152537\ttotal: 7.07s\tremaining: 1m 31s\n",
      "72:\tlearn: 0.6149619\ttotal: 7.18s\tremaining: 1m 31s\n",
      "73:\tlearn: 0.6144058\ttotal: 7.32s\tremaining: 1m 31s\n",
      "74:\tlearn: 0.6139060\ttotal: 7.44s\tremaining: 1m 31s\n",
      "75:\tlearn: 0.6135491\ttotal: 7.56s\tremaining: 1m 31s\n",
      "76:\tlearn: 0.6134750\ttotal: 7.69s\tremaining: 1m 32s\n",
      "77:\tlearn: 0.6133011\ttotal: 7.81s\tremaining: 1m 32s\n",
      "78:\tlearn: 0.6131044\ttotal: 7.91s\tremaining: 1m 32s\n",
      "79:\tlearn: 0.6130349\ttotal: 8.03s\tremaining: 1m 32s\n",
      "80:\tlearn: 0.6130010\ttotal: 8.08s\tremaining: 1m 31s\n",
      "81:\tlearn: 0.6129298\ttotal: 8.15s\tremaining: 1m 31s\n",
      "82:\tlearn: 0.6129268\ttotal: 8.23s\tremaining: 1m 30s\n",
      "83:\tlearn: 0.6127167\ttotal: 8.35s\tremaining: 1m 31s\n",
      "84:\tlearn: 0.6126371\ttotal: 8.47s\tremaining: 1m 31s\n",
      "85:\tlearn: 0.6125283\ttotal: 8.59s\tremaining: 1m 31s\n",
      "86:\tlearn: 0.6123824\ttotal: 8.68s\tremaining: 1m 31s\n",
      "87:\tlearn: 0.6123333\ttotal: 8.75s\tremaining: 1m 30s\n",
      "88:\tlearn: 0.6122810\ttotal: 8.8s\tremaining: 1m 30s\n",
      "89:\tlearn: 0.6119827\ttotal: 8.92s\tremaining: 1m 30s\n",
      "90:\tlearn: 0.6119674\ttotal: 8.98s\tremaining: 1m 29s\n",
      "91:\tlearn: 0.6119189\ttotal: 9.06s\tremaining: 1m 29s\n",
      "92:\tlearn: 0.6118448\ttotal: 9.19s\tremaining: 1m 29s\n",
      "93:\tlearn: 0.6118154\ttotal: 9.24s\tremaining: 1m 29s\n",
      "94:\tlearn: 0.6116971\ttotal: 9.36s\tremaining: 1m 29s\n",
      "95:\tlearn: 0.6116971\ttotal: 9.39s\tremaining: 1m 28s\n",
      "96:\tlearn: 0.6115298\ttotal: 9.52s\tremaining: 1m 28s\n",
      "97:\tlearn: 0.6113879\ttotal: 9.64s\tremaining: 1m 28s\n",
      "98:\tlearn: 0.6113879\ttotal: 9.68s\tremaining: 1m 28s\n",
      "99:\tlearn: 0.6112350\ttotal: 9.8s\tremaining: 1m 28s\n",
      "100:\tlearn: 0.6112030\ttotal: 9.86s\tremaining: 1m 27s\n",
      "101:\tlearn: 0.6107640\ttotal: 9.98s\tremaining: 1m 27s\n",
      "102:\tlearn: 0.6107401\ttotal: 10s\tremaining: 1m 27s\n",
      "103:\tlearn: 0.6104036\ttotal: 10.2s\tremaining: 1m 27s\n",
      "104:\tlearn: 0.6103789\ttotal: 10.2s\tremaining: 1m 27s\n",
      "105:\tlearn: 0.6100707\ttotal: 10.4s\tremaining: 1m 27s\n",
      "106:\tlearn: 0.6099947\ttotal: 10.5s\tremaining: 1m 27s\n",
      "107:\tlearn: 0.6099052\ttotal: 10.6s\tremaining: 1m 27s\n",
      "108:\tlearn: 0.6097385\ttotal: 10.7s\tremaining: 1m 27s\n",
      "109:\tlearn: 0.6096573\ttotal: 10.8s\tremaining: 1m 27s\n",
      "110:\tlearn: 0.6096573\ttotal: 10.8s\tremaining: 1m 26s\n",
      "111:\tlearn: 0.6094123\ttotal: 11s\tremaining: 1m 26s\n",
      "112:\tlearn: 0.6093941\ttotal: 11.1s\tremaining: 1m 26s\n",
      "113:\tlearn: 0.6092984\ttotal: 11.2s\tremaining: 1m 27s\n",
      "114:\tlearn: 0.6092000\ttotal: 11.3s\tremaining: 1m 26s\n",
      "115:\tlearn: 0.6090437\ttotal: 11.4s\tremaining: 1m 27s\n",
      "116:\tlearn: 0.6089518\ttotal: 11.5s\tremaining: 1m 26s\n",
      "117:\tlearn: 0.6086990\ttotal: 11.6s\tremaining: 1m 26s\n",
      "118:\tlearn: 0.6086948\ttotal: 11.7s\tremaining: 1m 26s\n",
      "119:\tlearn: 0.6086900\ttotal: 11.8s\tremaining: 1m 26s\n",
      "120:\tlearn: 0.6085734\ttotal: 11.9s\tremaining: 1m 26s\n",
      "121:\tlearn: 0.6085529\ttotal: 12s\tremaining: 1m 26s\n",
      "122:\tlearn: 0.6085364\ttotal: 12s\tremaining: 1m 25s\n",
      "123:\tlearn: 0.6085364\ttotal: 12.1s\tremaining: 1m 25s\n",
      "124:\tlearn: 0.6082025\ttotal: 12.2s\tremaining: 1m 25s\n",
      "125:\tlearn: 0.6081888\ttotal: 12.3s\tremaining: 1m 25s\n",
      "126:\tlearn: 0.6080068\ttotal: 12.4s\tremaining: 1m 25s\n",
      "127:\tlearn: 0.6079441\ttotal: 12.6s\tremaining: 1m 25s\n",
      "128:\tlearn: 0.6079238\ttotal: 12.6s\tremaining: 1m 25s\n",
      "129:\tlearn: 0.6078675\ttotal: 12.7s\tremaining: 1m 25s\n",
      "130:\tlearn: 0.6077710\ttotal: 12.8s\tremaining: 1m 25s\n",
      "131:\tlearn: 0.6076655\ttotal: 13s\tremaining: 1m 25s\n",
      "132:\tlearn: 0.6075856\ttotal: 13.1s\tremaining: 1m 25s\n",
      "133:\tlearn: 0.6073642\ttotal: 13.2s\tremaining: 1m 25s\n",
      "134:\tlearn: 0.6072899\ttotal: 13.3s\tremaining: 1m 25s\n",
      "135:\tlearn: 0.6072249\ttotal: 13.4s\tremaining: 1m 25s\n",
      "136:\tlearn: 0.6071406\ttotal: 13.6s\tremaining: 1m 25s\n",
      "137:\tlearn: 0.6071385\ttotal: 13.7s\tremaining: 1m 25s\n",
      "138:\tlearn: 0.6070109\ttotal: 13.8s\tremaining: 1m 25s\n",
      "139:\tlearn: 0.6068542\ttotal: 13.9s\tremaining: 1m 25s\n",
      "140:\tlearn: 0.6067095\ttotal: 14s\tremaining: 1m 25s\n",
      "141:\tlearn: 0.6066299\ttotal: 14.1s\tremaining: 1m 25s\n",
      "142:\tlearn: 0.6066091\ttotal: 14.2s\tremaining: 1m 25s\n",
      "143:\tlearn: 0.6065728\ttotal: 14.3s\tremaining: 1m 25s\n",
      "144:\tlearn: 0.6065479\ttotal: 14.4s\tremaining: 1m 25s\n",
      "145:\tlearn: 0.6063696\ttotal: 14.6s\tremaining: 1m 25s\n",
      "146:\tlearn: 0.6063078\ttotal: 14.7s\tremaining: 1m 25s\n",
      "147:\tlearn: 0.6060256\ttotal: 14.8s\tremaining: 1m 25s\n",
      "148:\tlearn: 0.6059308\ttotal: 14.9s\tremaining: 1m 25s\n",
      "149:\tlearn: 0.6057619\ttotal: 15.1s\tremaining: 1m 25s\n",
      "150:\tlearn: 0.6056480\ttotal: 15.2s\tremaining: 1m 25s\n",
      "151:\tlearn: 0.6051340\ttotal: 15.3s\tremaining: 1m 25s\n",
      "152:\tlearn: 0.6050495\ttotal: 15.4s\tremaining: 1m 25s\n",
      "153:\tlearn: 0.6049283\ttotal: 15.5s\tremaining: 1m 25s\n",
      "154:\tlearn: 0.6047268\ttotal: 15.7s\tremaining: 1m 25s\n",
      "155:\tlearn: 0.6047268\ttotal: 15.7s\tremaining: 1m 24s\n",
      "156:\tlearn: 0.6046135\ttotal: 15.8s\tremaining: 1m 24s\n"
     ]
    },
    {
     "name": "stdout",
     "output_type": "stream",
     "text": [
      "157:\tlearn: 0.6044067\ttotal: 15.9s\tremaining: 1m 24s\n",
      "158:\tlearn: 0.6043401\ttotal: 16.1s\tremaining: 1m 25s\n",
      "159:\tlearn: 0.6042656\ttotal: 16.2s\tremaining: 1m 25s\n",
      "160:\tlearn: 0.6040658\ttotal: 16.3s\tremaining: 1m 25s\n",
      "161:\tlearn: 0.6040566\ttotal: 16.4s\tremaining: 1m 24s\n",
      "162:\tlearn: 0.6040419\ttotal: 16.4s\tremaining: 1m 24s\n",
      "163:\tlearn: 0.6039997\ttotal: 16.6s\tremaining: 1m 24s\n",
      "164:\tlearn: 0.6039663\ttotal: 16.7s\tremaining: 1m 24s\n",
      "165:\tlearn: 0.6039476\ttotal: 16.8s\tremaining: 1m 24s\n",
      "166:\tlearn: 0.6038682\ttotal: 16.9s\tremaining: 1m 24s\n",
      "167:\tlearn: 0.6038577\ttotal: 17s\tremaining: 1m 24s\n",
      "168:\tlearn: 0.6036263\ttotal: 17.1s\tremaining: 1m 24s\n",
      "169:\tlearn: 0.6034048\ttotal: 17.2s\tremaining: 1m 24s\n",
      "170:\tlearn: 0.6032967\ttotal: 17.3s\tremaining: 1m 24s\n",
      "171:\tlearn: 0.6032460\ttotal: 17.5s\tremaining: 1m 24s\n",
      "172:\tlearn: 0.6028268\ttotal: 17.6s\tremaining: 1m 24s\n",
      "173:\tlearn: 0.6028169\ttotal: 17.7s\tremaining: 1m 23s\n",
      "174:\tlearn: 0.6027747\ttotal: 17.8s\tremaining: 1m 23s\n",
      "175:\tlearn: 0.6025670\ttotal: 17.9s\tremaining: 1m 23s\n",
      "176:\tlearn: 0.6025568\ttotal: 18s\tremaining: 1m 23s\n",
      "177:\tlearn: 0.6025304\ttotal: 18.1s\tremaining: 1m 23s\n",
      "178:\tlearn: 0.6025185\ttotal: 18.2s\tremaining: 1m 23s\n",
      "179:\tlearn: 0.6023867\ttotal: 18.3s\tremaining: 1m 23s\n",
      "180:\tlearn: 0.6023849\ttotal: 18.4s\tremaining: 1m 23s\n",
      "181:\tlearn: 0.6023849\ttotal: 18.4s\tremaining: 1m 22s\n",
      "182:\tlearn: 0.6023306\ttotal: 18.6s\tremaining: 1m 22s\n",
      "183:\tlearn: 0.6023167\ttotal: 18.6s\tremaining: 1m 22s\n",
      "184:\tlearn: 0.6021398\ttotal: 18.7s\tremaining: 1m 22s\n",
      "185:\tlearn: 0.6021142\ttotal: 18.8s\tremaining: 1m 22s\n",
      "186:\tlearn: 0.6021142\ttotal: 18.9s\tremaining: 1m 22s\n",
      "187:\tlearn: 0.6021093\ttotal: 19s\tremaining: 1m 22s\n",
      "188:\tlearn: 0.6019665\ttotal: 19.1s\tremaining: 1m 21s\n",
      "189:\tlearn: 0.6019421\ttotal: 19.2s\tremaining: 1m 21s\n",
      "190:\tlearn: 0.6018113\ttotal: 19.3s\tremaining: 1m 21s\n",
      "191:\tlearn: 0.6017077\ttotal: 19.4s\tremaining: 1m 21s\n",
      "192:\tlearn: 0.6014706\ttotal: 19.6s\tremaining: 1m 21s\n",
      "193:\tlearn: 0.6014695\ttotal: 19.6s\tremaining: 1m 21s\n",
      "194:\tlearn: 0.6012752\ttotal: 19.8s\tremaining: 1m 21s\n",
      "195:\tlearn: 0.6010257\ttotal: 19.9s\tremaining: 1m 21s\n",
      "196:\tlearn: 0.6009986\ttotal: 20s\tremaining: 1m 21s\n",
      "197:\tlearn: 0.6008266\ttotal: 20.1s\tremaining: 1m 21s\n",
      "198:\tlearn: 0.6007038\ttotal: 20.2s\tremaining: 1m 21s\n",
      "199:\tlearn: 0.6006358\ttotal: 20.4s\tremaining: 1m 21s\n",
      "200:\tlearn: 0.6005212\ttotal: 20.5s\tremaining: 1m 21s\n",
      "201:\tlearn: 0.6004701\ttotal: 20.6s\tremaining: 1m 21s\n",
      "202:\tlearn: 0.6004701\ttotal: 20.6s\tremaining: 1m 21s\n",
      "203:\tlearn: 0.6003711\ttotal: 20.7s\tremaining: 1m 20s\n",
      "204:\tlearn: 0.5999916\ttotal: 20.9s\tremaining: 1m 21s\n",
      "205:\tlearn: 0.5999115\ttotal: 21s\tremaining: 1m 20s\n",
      "206:\tlearn: 0.5998177\ttotal: 21.1s\tremaining: 1m 20s\n",
      "207:\tlearn: 0.5995996\ttotal: 21.2s\tremaining: 1m 20s\n",
      "208:\tlearn: 0.5995937\ttotal: 21.3s\tremaining: 1m 20s\n",
      "209:\tlearn: 0.5995841\ttotal: 21.4s\tremaining: 1m 20s\n",
      "210:\tlearn: 0.5995000\ttotal: 21.5s\tremaining: 1m 20s\n",
      "211:\tlearn: 0.5994874\ttotal: 21.5s\tremaining: 1m 20s\n",
      "212:\tlearn: 0.5991970\ttotal: 21.7s\tremaining: 1m 20s\n",
      "213:\tlearn: 0.5989600\ttotal: 21.8s\tremaining: 1m 20s\n",
      "214:\tlearn: 0.5987262\ttotal: 21.9s\tremaining: 1m 20s\n",
      "215:\tlearn: 0.5987092\ttotal: 22s\tremaining: 1m 19s\n",
      "216:\tlearn: 0.5984960\ttotal: 22.1s\tremaining: 1m 19s\n",
      "217:\tlearn: 0.5980557\ttotal: 22.2s\tremaining: 1m 19s\n",
      "218:\tlearn: 0.5976386\ttotal: 22.3s\tremaining: 1m 19s\n",
      "219:\tlearn: 0.5972793\ttotal: 22.5s\tremaining: 1m 19s\n",
      "220:\tlearn: 0.5972668\ttotal: 22.5s\tremaining: 1m 19s\n",
      "221:\tlearn: 0.5970694\ttotal: 22.6s\tremaining: 1m 19s\n",
      "222:\tlearn: 0.5967285\ttotal: 22.8s\tremaining: 1m 19s\n",
      "223:\tlearn: 0.5964571\ttotal: 22.9s\tremaining: 1m 19s\n",
      "224:\tlearn: 0.5962586\ttotal: 23s\tremaining: 1m 19s\n",
      "225:\tlearn: 0.5960353\ttotal: 23.1s\tremaining: 1m 19s\n",
      "226:\tlearn: 0.5956200\ttotal: 23.3s\tremaining: 1m 19s\n",
      "227:\tlearn: 0.5954704\ttotal: 23.4s\tremaining: 1m 19s\n",
      "228:\tlearn: 0.5953003\ttotal: 23.5s\tremaining: 1m 19s\n",
      "229:\tlearn: 0.5952615\ttotal: 23.6s\tremaining: 1m 18s\n",
      "230:\tlearn: 0.5951955\ttotal: 23.7s\tremaining: 1m 18s\n",
      "231:\tlearn: 0.5951745\ttotal: 23.7s\tremaining: 1m 18s\n",
      "232:\tlearn: 0.5949664\ttotal: 23.9s\tremaining: 1m 18s\n",
      "233:\tlearn: 0.5945411\ttotal: 24s\tremaining: 1m 18s\n",
      "234:\tlearn: 0.5944033\ttotal: 24.1s\tremaining: 1m 18s\n",
      "235:\tlearn: 0.5941352\ttotal: 24.2s\tremaining: 1m 18s\n",
      "236:\tlearn: 0.5938262\ttotal: 24.3s\tremaining: 1m 18s\n",
      "237:\tlearn: 0.5935480\ttotal: 24.5s\tremaining: 1m 18s\n",
      "238:\tlearn: 0.5931759\ttotal: 24.6s\tremaining: 1m 18s\n",
      "239:\tlearn: 0.5928888\ttotal: 24.7s\tremaining: 1m 18s\n",
      "240:\tlearn: 0.5925337\ttotal: 24.8s\tremaining: 1m 18s\n",
      "241:\tlearn: 0.5920104\ttotal: 24.9s\tremaining: 1m 18s\n",
      "242:\tlearn: 0.5918410\ttotal: 25.1s\tremaining: 1m 18s\n",
      "243:\tlearn: 0.5915674\ttotal: 25.2s\tremaining: 1m 18s\n",
      "244:\tlearn: 0.5912733\ttotal: 25.3s\tremaining: 1m 18s\n",
      "245:\tlearn: 0.5911056\ttotal: 25.4s\tremaining: 1m 17s\n",
      "246:\tlearn: 0.5907036\ttotal: 25.6s\tremaining: 1m 17s\n",
      "247:\tlearn: 0.5905604\ttotal: 25.7s\tremaining: 1m 17s\n",
      "248:\tlearn: 0.5902094\ttotal: 25.8s\tremaining: 1m 17s\n",
      "249:\tlearn: 0.5898589\ttotal: 26s\tremaining: 1m 17s\n",
      "250:\tlearn: 0.5896996\ttotal: 26.1s\tremaining: 1m 17s\n",
      "251:\tlearn: 0.5891977\ttotal: 26.2s\tremaining: 1m 17s\n",
      "252:\tlearn: 0.5890540\ttotal: 26.3s\tremaining: 1m 17s\n",
      "253:\tlearn: 0.5888140\ttotal: 26.5s\tremaining: 1m 17s\n",
      "254:\tlearn: 0.5886214\ttotal: 26.6s\tremaining: 1m 17s\n",
      "255:\tlearn: 0.5883103\ttotal: 26.7s\tremaining: 1m 17s\n",
      "256:\tlearn: 0.5878289\ttotal: 26.8s\tremaining: 1m 17s\n",
      "257:\tlearn: 0.5876812\ttotal: 26.9s\tremaining: 1m 17s\n",
      "258:\tlearn: 0.5873789\ttotal: 27.1s\tremaining: 1m 17s\n",
      "259:\tlearn: 0.5871723\ttotal: 27.2s\tremaining: 1m 17s\n",
      "260:\tlearn: 0.5869391\ttotal: 27.3s\tremaining: 1m 17s\n",
      "261:\tlearn: 0.5865631\ttotal: 27.4s\tremaining: 1m 17s\n",
      "262:\tlearn: 0.5860343\ttotal: 27.6s\tremaining: 1m 17s\n",
      "263:\tlearn: 0.5858318\ttotal: 27.7s\tremaining: 1m 17s\n",
      "264:\tlearn: 0.5852520\ttotal: 27.8s\tremaining: 1m 17s\n",
      "265:\tlearn: 0.5851038\ttotal: 27.9s\tremaining: 1m 17s\n",
      "266:\tlearn: 0.5849442\ttotal: 28s\tremaining: 1m 16s\n",
      "267:\tlearn: 0.5845792\ttotal: 28.2s\tremaining: 1m 16s\n",
      "268:\tlearn: 0.5844419\ttotal: 28.3s\tremaining: 1m 16s\n",
      "269:\tlearn: 0.5842076\ttotal: 28.4s\tremaining: 1m 16s\n",
      "270:\tlearn: 0.5841084\ttotal: 28.5s\tremaining: 1m 16s\n",
      "271:\tlearn: 0.5838558\ttotal: 28.6s\tremaining: 1m 16s\n",
      "272:\tlearn: 0.5837880\ttotal: 28.8s\tremaining: 1m 16s\n",
      "273:\tlearn: 0.5835983\ttotal: 28.9s\tremaining: 1m 16s\n",
      "274:\tlearn: 0.5832852\ttotal: 29s\tremaining: 1m 16s\n",
      "275:\tlearn: 0.5828808\ttotal: 29.1s\tremaining: 1m 16s\n",
      "276:\tlearn: 0.5825913\ttotal: 29.3s\tremaining: 1m 16s\n",
      "277:\tlearn: 0.5825082\ttotal: 29.4s\tremaining: 1m 16s\n",
      "278:\tlearn: 0.5822004\ttotal: 29.5s\tremaining: 1m 16s\n",
      "279:\tlearn: 0.5818030\ttotal: 29.6s\tremaining: 1m 16s\n",
      "280:\tlearn: 0.5815171\ttotal: 29.7s\tremaining: 1m 16s\n",
      "281:\tlearn: 0.5814561\ttotal: 29.9s\tremaining: 1m 16s\n",
      "282:\tlearn: 0.5809803\ttotal: 30s\tremaining: 1m 16s\n",
      "283:\tlearn: 0.5805879\ttotal: 30.1s\tremaining: 1m 15s\n",
      "284:\tlearn: 0.5804438\ttotal: 30.2s\tremaining: 1m 15s\n",
      "285:\tlearn: 0.5801565\ttotal: 30.4s\tremaining: 1m 15s\n",
      "286:\tlearn: 0.5799982\ttotal: 30.5s\tremaining: 1m 15s\n",
      "287:\tlearn: 0.5794431\ttotal: 30.6s\tremaining: 1m 15s\n",
      "288:\tlearn: 0.5790947\ttotal: 30.7s\tremaining: 1m 15s\n",
      "289:\tlearn: 0.5787941\ttotal: 30.8s\tremaining: 1m 15s\n",
      "290:\tlearn: 0.5785506\ttotal: 31s\tremaining: 1m 15s\n",
      "291:\tlearn: 0.5784377\ttotal: 31.1s\tremaining: 1m 15s\n",
      "292:\tlearn: 0.5781662\ttotal: 31.2s\tremaining: 1m 15s\n",
      "293:\tlearn: 0.5778913\ttotal: 31.3s\tremaining: 1m 15s\n",
      "294:\tlearn: 0.5775297\ttotal: 31.5s\tremaining: 1m 15s\n",
      "295:\tlearn: 0.5770743\ttotal: 31.6s\tremaining: 1m 15s\n",
      "296:\tlearn: 0.5767972\ttotal: 31.7s\tremaining: 1m 15s\n",
      "297:\tlearn: 0.5766302\ttotal: 31.8s\tremaining: 1m 14s\n",
      "298:\tlearn: 0.5762116\ttotal: 31.9s\tremaining: 1m 14s\n",
      "299:\tlearn: 0.5759605\ttotal: 32.1s\tremaining: 1m 14s\n",
      "300:\tlearn: 0.5755770\ttotal: 32.2s\tremaining: 1m 14s\n",
      "301:\tlearn: 0.5753932\ttotal: 32.3s\tremaining: 1m 14s\n",
      "302:\tlearn: 0.5750546\ttotal: 32.4s\tremaining: 1m 14s\n",
      "303:\tlearn: 0.5748360\ttotal: 32.6s\tremaining: 1m 14s\n",
      "304:\tlearn: 0.5746615\ttotal: 32.7s\tremaining: 1m 14s\n",
      "305:\tlearn: 0.5745363\ttotal: 32.8s\tremaining: 1m 14s\n",
      "306:\tlearn: 0.5742904\ttotal: 32.9s\tremaining: 1m 14s\n",
      "307:\tlearn: 0.5739209\ttotal: 33.1s\tremaining: 1m 14s\n",
      "308:\tlearn: 0.5736510\ttotal: 33.2s\tremaining: 1m 14s\n",
      "309:\tlearn: 0.5732562\ttotal: 33.3s\tremaining: 1m 14s\n",
      "310:\tlearn: 0.5729102\ttotal: 33.4s\tremaining: 1m 14s\n",
      "311:\tlearn: 0.5725810\ttotal: 33.5s\tremaining: 1m 13s\n",
      "312:\tlearn: 0.5723790\ttotal: 33.7s\tremaining: 1m 13s\n"
     ]
    },
    {
     "name": "stdout",
     "output_type": "stream",
     "text": [
      "313:\tlearn: 0.5722488\ttotal: 33.8s\tremaining: 1m 13s\n",
      "314:\tlearn: 0.5719691\ttotal: 33.9s\tremaining: 1m 13s\n",
      "315:\tlearn: 0.5717637\ttotal: 34s\tremaining: 1m 13s\n",
      "316:\tlearn: 0.5715169\ttotal: 34.2s\tremaining: 1m 13s\n",
      "317:\tlearn: 0.5712371\ttotal: 34.3s\tremaining: 1m 13s\n",
      "318:\tlearn: 0.5710962\ttotal: 34.4s\tremaining: 1m 13s\n",
      "319:\tlearn: 0.5710139\ttotal: 34.5s\tremaining: 1m 13s\n",
      "320:\tlearn: 0.5707139\ttotal: 34.6s\tremaining: 1m 13s\n",
      "321:\tlearn: 0.5705393\ttotal: 34.7s\tremaining: 1m 13s\n",
      "322:\tlearn: 0.5702787\ttotal: 34.8s\tremaining: 1m 13s\n",
      "323:\tlearn: 0.5700789\ttotal: 35s\tremaining: 1m 12s\n",
      "324:\tlearn: 0.5699586\ttotal: 35.1s\tremaining: 1m 12s\n",
      "325:\tlearn: 0.5696605\ttotal: 35.2s\tremaining: 1m 12s\n",
      "326:\tlearn: 0.5693930\ttotal: 35.4s\tremaining: 1m 12s\n",
      "327:\tlearn: 0.5692078\ttotal: 35.5s\tremaining: 1m 12s\n",
      "328:\tlearn: 0.5688898\ttotal: 35.6s\tremaining: 1m 12s\n",
      "329:\tlearn: 0.5687045\ttotal: 35.7s\tremaining: 1m 12s\n",
      "330:\tlearn: 0.5684530\ttotal: 35.9s\tremaining: 1m 12s\n",
      "331:\tlearn: 0.5682405\ttotal: 36s\tremaining: 1m 12s\n",
      "332:\tlearn: 0.5679535\ttotal: 36.1s\tremaining: 1m 12s\n",
      "333:\tlearn: 0.5678175\ttotal: 36.2s\tremaining: 1m 12s\n",
      "334:\tlearn: 0.5675908\ttotal: 36.3s\tremaining: 1m 12s\n",
      "335:\tlearn: 0.5674786\ttotal: 36.5s\tremaining: 1m 12s\n",
      "336:\tlearn: 0.5672410\ttotal: 36.6s\tremaining: 1m 11s\n",
      "337:\tlearn: 0.5670431\ttotal: 36.7s\tremaining: 1m 11s\n",
      "338:\tlearn: 0.5667941\ttotal: 36.8s\tremaining: 1m 11s\n",
      "339:\tlearn: 0.5665364\ttotal: 36.9s\tremaining: 1m 11s\n",
      "340:\tlearn: 0.5664771\ttotal: 37.1s\tremaining: 1m 11s\n",
      "341:\tlearn: 0.5663082\ttotal: 37.2s\tremaining: 1m 11s\n",
      "342:\tlearn: 0.5660034\ttotal: 37.3s\tremaining: 1m 11s\n",
      "343:\tlearn: 0.5657775\ttotal: 37.4s\tremaining: 1m 11s\n",
      "344:\tlearn: 0.5655483\ttotal: 37.6s\tremaining: 1m 11s\n",
      "345:\tlearn: 0.5653122\ttotal: 37.7s\tremaining: 1m 11s\n",
      "346:\tlearn: 0.5650474\ttotal: 37.8s\tremaining: 1m 11s\n",
      "347:\tlearn: 0.5649831\ttotal: 37.9s\tremaining: 1m 11s\n",
      "348:\tlearn: 0.5647836\ttotal: 38.1s\tremaining: 1m 10s\n",
      "349:\tlearn: 0.5645792\ttotal: 38.2s\tremaining: 1m 10s\n",
      "350:\tlearn: 0.5644040\ttotal: 38.3s\tremaining: 1m 10s\n",
      "351:\tlearn: 0.5641153\ttotal: 38.4s\tremaining: 1m 10s\n",
      "352:\tlearn: 0.5638651\ttotal: 38.5s\tremaining: 1m 10s\n",
      "353:\tlearn: 0.5635609\ttotal: 38.7s\tremaining: 1m 10s\n",
      "354:\tlearn: 0.5633485\ttotal: 38.8s\tremaining: 1m 10s\n",
      "355:\tlearn: 0.5630968\ttotal: 38.9s\tremaining: 1m 10s\n",
      "356:\tlearn: 0.5629695\ttotal: 39s\tremaining: 1m 10s\n",
      "357:\tlearn: 0.5628101\ttotal: 39.2s\tremaining: 1m 10s\n",
      "358:\tlearn: 0.5628016\ttotal: 39.3s\tremaining: 1m 10s\n",
      "359:\tlearn: 0.5624800\ttotal: 39.4s\tremaining: 1m 10s\n",
      "360:\tlearn: 0.5622418\ttotal: 39.5s\tremaining: 1m 9s\n",
      "361:\tlearn: 0.5621281\ttotal: 39.6s\tremaining: 1m 9s\n",
      "362:\tlearn: 0.5616590\ttotal: 39.8s\tremaining: 1m 9s\n",
      "363:\tlearn: 0.5615528\ttotal: 39.9s\tremaining: 1m 9s\n",
      "364:\tlearn: 0.5614002\ttotal: 40s\tremaining: 1m 9s\n",
      "365:\tlearn: 0.5612117\ttotal: 40.1s\tremaining: 1m 9s\n",
      "366:\tlearn: 0.5609174\ttotal: 40.3s\tremaining: 1m 9s\n",
      "367:\tlearn: 0.5608110\ttotal: 40.4s\tremaining: 1m 9s\n",
      "368:\tlearn: 0.5606225\ttotal: 40.5s\tremaining: 1m 9s\n",
      "369:\tlearn: 0.5604381\ttotal: 40.6s\tremaining: 1m 9s\n",
      "370:\tlearn: 0.5603567\ttotal: 40.8s\tremaining: 1m 9s\n",
      "371:\tlearn: 0.5601179\ttotal: 40.9s\tremaining: 1m 9s\n",
      "372:\tlearn: 0.5598065\ttotal: 41s\tremaining: 1m 8s\n",
      "373:\tlearn: 0.5597013\ttotal: 41.1s\tremaining: 1m 8s\n",
      "374:\tlearn: 0.5596804\ttotal: 41.2s\tremaining: 1m 8s\n",
      "375:\tlearn: 0.5595174\ttotal: 41.4s\tremaining: 1m 8s\n",
      "376:\tlearn: 0.5592893\ttotal: 41.5s\tremaining: 1m 8s\n",
      "377:\tlearn: 0.5590805\ttotal: 41.6s\tremaining: 1m 8s\n",
      "378:\tlearn: 0.5587198\ttotal: 41.8s\tremaining: 1m 8s\n",
      "379:\tlearn: 0.5583287\ttotal: 41.9s\tremaining: 1m 8s\n",
      "380:\tlearn: 0.5581954\ttotal: 42s\tremaining: 1m 8s\n",
      "381:\tlearn: 0.5580607\ttotal: 42.1s\tremaining: 1m 8s\n",
      "382:\tlearn: 0.5578138\ttotal: 42.2s\tremaining: 1m 8s\n",
      "383:\tlearn: 0.5577243\ttotal: 42.4s\tremaining: 1m 7s\n",
      "384:\tlearn: 0.5575873\ttotal: 42.5s\tremaining: 1m 7s\n",
      "385:\tlearn: 0.5574955\ttotal: 42.6s\tremaining: 1m 7s\n",
      "386:\tlearn: 0.5573907\ttotal: 42.7s\tremaining: 1m 7s\n",
      "387:\tlearn: 0.5573572\ttotal: 42.9s\tremaining: 1m 7s\n",
      "388:\tlearn: 0.5571744\ttotal: 43s\tremaining: 1m 7s\n",
      "389:\tlearn: 0.5569123\ttotal: 43.1s\tremaining: 1m 7s\n",
      "390:\tlearn: 0.5568095\ttotal: 43.2s\tremaining: 1m 7s\n",
      "391:\tlearn: 0.5565381\ttotal: 43.3s\tremaining: 1m 7s\n",
      "392:\tlearn: 0.5564038\ttotal: 43.5s\tremaining: 1m 7s\n",
      "393:\tlearn: 0.5561705\ttotal: 43.6s\tremaining: 1m 7s\n",
      "394:\tlearn: 0.5561197\ttotal: 43.7s\tremaining: 1m 6s\n",
      "395:\tlearn: 0.5560287\ttotal: 43.8s\tremaining: 1m 6s\n",
      "396:\tlearn: 0.5558687\ttotal: 44s\tremaining: 1m 6s\n",
      "397:\tlearn: 0.5555750\ttotal: 44.1s\tremaining: 1m 6s\n",
      "398:\tlearn: 0.5553797\ttotal: 44.2s\tremaining: 1m 6s\n",
      "399:\tlearn: 0.5551805\ttotal: 44.3s\tremaining: 1m 6s\n",
      "400:\tlearn: 0.5548391\ttotal: 44.5s\tremaining: 1m 6s\n",
      "401:\tlearn: 0.5545244\ttotal: 44.6s\tremaining: 1m 6s\n",
      "402:\tlearn: 0.5543952\ttotal: 44.7s\tremaining: 1m 6s\n",
      "403:\tlearn: 0.5542252\ttotal: 44.9s\tremaining: 1m 6s\n",
      "404:\tlearn: 0.5540384\ttotal: 45s\tremaining: 1m 6s\n",
      "405:\tlearn: 0.5537598\ttotal: 45.1s\tremaining: 1m 5s\n",
      "406:\tlearn: 0.5535632\ttotal: 45.2s\tremaining: 1m 5s\n",
      "407:\tlearn: 0.5533746\ttotal: 45.3s\tremaining: 1m 5s\n",
      "408:\tlearn: 0.5531682\ttotal: 45.5s\tremaining: 1m 5s\n",
      "409:\tlearn: 0.5530551\ttotal: 45.6s\tremaining: 1m 5s\n",
      "410:\tlearn: 0.5529927\ttotal: 45.7s\tremaining: 1m 5s\n",
      "411:\tlearn: 0.5527669\ttotal: 45.8s\tremaining: 1m 5s\n",
      "412:\tlearn: 0.5525866\ttotal: 45.9s\tremaining: 1m 5s\n",
      "413:\tlearn: 0.5524525\ttotal: 46.1s\tremaining: 1m 5s\n",
      "414:\tlearn: 0.5522489\ttotal: 46.2s\tremaining: 1m 5s\n",
      "415:\tlearn: 0.5520749\ttotal: 46.3s\tremaining: 1m 5s\n",
      "416:\tlearn: 0.5517891\ttotal: 46.4s\tremaining: 1m 4s\n",
      "417:\tlearn: 0.5515330\ttotal: 46.6s\tremaining: 1m 4s\n",
      "418:\tlearn: 0.5512341\ttotal: 46.7s\tremaining: 1m 4s\n",
      "419:\tlearn: 0.5508895\ttotal: 46.8s\tremaining: 1m 4s\n",
      "420:\tlearn: 0.5506864\ttotal: 46.9s\tremaining: 1m 4s\n",
      "421:\tlearn: 0.5504918\ttotal: 47s\tremaining: 1m 4s\n",
      "422:\tlearn: 0.5504319\ttotal: 47.2s\tremaining: 1m 4s\n",
      "423:\tlearn: 0.5503053\ttotal: 47.3s\tremaining: 1m 4s\n",
      "424:\tlearn: 0.5498413\ttotal: 47.4s\tremaining: 1m 4s\n",
      "425:\tlearn: 0.5494417\ttotal: 47.5s\tremaining: 1m 4s\n",
      "426:\tlearn: 0.5490988\ttotal: 47.7s\tremaining: 1m 3s\n",
      "427:\tlearn: 0.5489201\ttotal: 47.8s\tremaining: 1m 3s\n",
      "428:\tlearn: 0.5487264\ttotal: 47.9s\tremaining: 1m 3s\n",
      "429:\tlearn: 0.5484950\ttotal: 48s\tremaining: 1m 3s\n",
      "430:\tlearn: 0.5481953\ttotal: 48.2s\tremaining: 1m 3s\n",
      "431:\tlearn: 0.5481211\ttotal: 48.3s\tremaining: 1m 3s\n",
      "432:\tlearn: 0.5479108\ttotal: 48.4s\tremaining: 1m 3s\n",
      "433:\tlearn: 0.5476456\ttotal: 48.5s\tremaining: 1m 3s\n",
      "434:\tlearn: 0.5475310\ttotal: 48.7s\tremaining: 1m 3s\n",
      "435:\tlearn: 0.5472827\ttotal: 48.8s\tremaining: 1m 3s\n",
      "436:\tlearn: 0.5471402\ttotal: 48.9s\tremaining: 1m 3s\n",
      "437:\tlearn: 0.5470448\ttotal: 49s\tremaining: 1m 2s\n",
      "438:\tlearn: 0.5468318\ttotal: 49.2s\tremaining: 1m 2s\n",
      "439:\tlearn: 0.5465409\ttotal: 49.3s\tremaining: 1m 2s\n",
      "440:\tlearn: 0.5463335\ttotal: 49.4s\tremaining: 1m 2s\n",
      "441:\tlearn: 0.5459936\ttotal: 49.5s\tremaining: 1m 2s\n",
      "442:\tlearn: 0.5457458\ttotal: 49.7s\tremaining: 1m 2s\n",
      "443:\tlearn: 0.5456025\ttotal: 49.8s\tremaining: 1m 2s\n",
      "444:\tlearn: 0.5455306\ttotal: 49.9s\tremaining: 1m 2s\n",
      "445:\tlearn: 0.5453500\ttotal: 50.1s\tremaining: 1m 2s\n",
      "446:\tlearn: 0.5450822\ttotal: 50.2s\tremaining: 1m 2s\n",
      "447:\tlearn: 0.5448124\ttotal: 50.3s\tremaining: 1m 1s\n",
      "448:\tlearn: 0.5445595\ttotal: 50.4s\tremaining: 1m 1s\n",
      "449:\tlearn: 0.5442562\ttotal: 50.6s\tremaining: 1m 1s\n",
      "450:\tlearn: 0.5440952\ttotal: 50.7s\tremaining: 1m 1s\n",
      "451:\tlearn: 0.5439071\ttotal: 50.8s\tremaining: 1m 1s\n",
      "452:\tlearn: 0.5437075\ttotal: 50.9s\tremaining: 1m 1s\n",
      "453:\tlearn: 0.5435948\ttotal: 51.1s\tremaining: 1m 1s\n",
      "454:\tlearn: 0.5435270\ttotal: 51.2s\tremaining: 1m 1s\n",
      "455:\tlearn: 0.5433415\ttotal: 51.3s\tremaining: 1m 1s\n",
      "456:\tlearn: 0.5431652\ttotal: 51.4s\tremaining: 1m 1s\n",
      "457:\tlearn: 0.5429890\ttotal: 51.6s\tremaining: 1m 1s\n",
      "458:\tlearn: 0.5426468\ttotal: 51.7s\tremaining: 1m\n",
      "459:\tlearn: 0.5425377\ttotal: 51.8s\tremaining: 1m\n",
      "460:\tlearn: 0.5423947\ttotal: 51.9s\tremaining: 1m\n",
      "461:\tlearn: 0.5420644\ttotal: 52.1s\tremaining: 1m\n",
      "462:\tlearn: 0.5419679\ttotal: 52.2s\tremaining: 1m\n",
      "463:\tlearn: 0.5418147\ttotal: 52.3s\tremaining: 1m\n",
      "464:\tlearn: 0.5416668\ttotal: 52.4s\tremaining: 1m\n",
      "465:\tlearn: 0.5415480\ttotal: 52.6s\tremaining: 1m\n",
      "466:\tlearn: 0.5413342\ttotal: 52.7s\tremaining: 1m\n",
      "467:\tlearn: 0.5410620\ttotal: 52.8s\tremaining: 1m\n",
      "468:\tlearn: 0.5408974\ttotal: 52.9s\tremaining: 59.9s\n",
      "469:\tlearn: 0.5406796\ttotal: 53.1s\tremaining: 59.8s\n",
      "470:\tlearn: 0.5405317\ttotal: 53.2s\tremaining: 59.7s\n"
     ]
    },
    {
     "name": "stdout",
     "output_type": "stream",
     "text": [
      "471:\tlearn: 0.5403541\ttotal: 53.3s\tremaining: 59.6s\n",
      "472:\tlearn: 0.5401203\ttotal: 53.4s\tremaining: 59.5s\n",
      "473:\tlearn: 0.5399922\ttotal: 53.6s\tremaining: 59.4s\n",
      "474:\tlearn: 0.5397149\ttotal: 53.7s\tremaining: 59.4s\n",
      "475:\tlearn: 0.5395688\ttotal: 53.8s\tremaining: 59.2s\n",
      "476:\tlearn: 0.5395007\ttotal: 53.9s\tremaining: 59.1s\n",
      "477:\tlearn: 0.5392745\ttotal: 54.1s\tremaining: 59s\n",
      "478:\tlearn: 0.5391784\ttotal: 54.2s\tremaining: 58.9s\n",
      "479:\tlearn: 0.5390037\ttotal: 54.3s\tremaining: 58.9s\n",
      "480:\tlearn: 0.5388114\ttotal: 54.5s\tremaining: 58.8s\n",
      "481:\tlearn: 0.5386727\ttotal: 54.6s\tremaining: 58.7s\n",
      "482:\tlearn: 0.5386041\ttotal: 54.7s\tremaining: 58.6s\n",
      "483:\tlearn: 0.5385370\ttotal: 54.8s\tremaining: 58.4s\n",
      "484:\tlearn: 0.5384457\ttotal: 54.9s\tremaining: 58.3s\n",
      "485:\tlearn: 0.5383563\ttotal: 55.1s\tremaining: 58.2s\n",
      "486:\tlearn: 0.5382033\ttotal: 55.2s\tremaining: 58.1s\n",
      "487:\tlearn: 0.5380085\ttotal: 55.3s\tremaining: 58s\n",
      "488:\tlearn: 0.5379615\ttotal: 55.4s\tremaining: 57.9s\n",
      "489:\tlearn: 0.5377364\ttotal: 55.5s\tremaining: 57.8s\n",
      "490:\tlearn: 0.5375761\ttotal: 55.7s\tremaining: 57.7s\n",
      "491:\tlearn: 0.5374912\ttotal: 55.8s\tremaining: 57.6s\n",
      "492:\tlearn: 0.5370889\ttotal: 55.9s\tremaining: 57.5s\n",
      "493:\tlearn: 0.5370157\ttotal: 56.1s\tremaining: 57.4s\n",
      "494:\tlearn: 0.5367833\ttotal: 56.2s\tremaining: 57.3s\n",
      "495:\tlearn: 0.5366577\ttotal: 56.3s\tremaining: 57.2s\n",
      "496:\tlearn: 0.5366290\ttotal: 56.4s\tremaining: 57.1s\n",
      "497:\tlearn: 0.5364430\ttotal: 56.6s\tremaining: 57s\n",
      "498:\tlearn: 0.5363195\ttotal: 56.7s\tremaining: 56.9s\n",
      "499:\tlearn: 0.5362516\ttotal: 56.8s\tremaining: 56.8s\n",
      "500:\tlearn: 0.5361593\ttotal: 56.9s\tremaining: 56.7s\n",
      "501:\tlearn: 0.5360110\ttotal: 57s\tremaining: 56.6s\n",
      "502:\tlearn: 0.5359245\ttotal: 57.2s\tremaining: 56.5s\n",
      "503:\tlearn: 0.5357379\ttotal: 57.3s\tremaining: 56.4s\n",
      "504:\tlearn: 0.5355990\ttotal: 57.4s\tremaining: 56.3s\n",
      "505:\tlearn: 0.5354353\ttotal: 57.5s\tremaining: 56.2s\n",
      "506:\tlearn: 0.5352371\ttotal: 57.7s\tremaining: 56.1s\n",
      "507:\tlearn: 0.5349774\ttotal: 57.8s\tremaining: 56s\n",
      "508:\tlearn: 0.5349554\ttotal: 57.9s\tremaining: 55.9s\n",
      "509:\tlearn: 0.5346872\ttotal: 58s\tremaining: 55.8s\n",
      "510:\tlearn: 0.5345684\ttotal: 58.2s\tremaining: 55.7s\n",
      "511:\tlearn: 0.5343932\ttotal: 58.3s\tremaining: 55.6s\n",
      "512:\tlearn: 0.5343073\ttotal: 58.4s\tremaining: 55.5s\n",
      "513:\tlearn: 0.5342686\ttotal: 58.5s\tremaining: 55.4s\n",
      "514:\tlearn: 0.5340162\ttotal: 58.7s\tremaining: 55.3s\n",
      "515:\tlearn: 0.5335408\ttotal: 58.8s\tremaining: 55.1s\n",
      "516:\tlearn: 0.5332869\ttotal: 58.9s\tremaining: 55s\n",
      "517:\tlearn: 0.5329681\ttotal: 59s\tremaining: 54.9s\n",
      "518:\tlearn: 0.5328328\ttotal: 59.2s\tremaining: 54.8s\n",
      "519:\tlearn: 0.5327229\ttotal: 59.3s\tremaining: 54.7s\n",
      "520:\tlearn: 0.5324438\ttotal: 59.4s\tremaining: 54.6s\n",
      "521:\tlearn: 0.5323584\ttotal: 59.6s\tremaining: 54.6s\n",
      "522:\tlearn: 0.5320418\ttotal: 59.7s\tremaining: 54.5s\n",
      "523:\tlearn: 0.5318821\ttotal: 59.9s\tremaining: 54.4s\n",
      "524:\tlearn: 0.5317099\ttotal: 60s\tremaining: 54.3s\n",
      "525:\tlearn: 0.5315420\ttotal: 1m\tremaining: 54.2s\n",
      "526:\tlearn: 0.5314624\ttotal: 1m\tremaining: 54.1s\n",
      "527:\tlearn: 0.5311934\ttotal: 1m\tremaining: 54s\n",
      "528:\tlearn: 0.5311187\ttotal: 1m\tremaining: 53.9s\n",
      "529:\tlearn: 0.5309878\ttotal: 1m\tremaining: 53.7s\n",
      "530:\tlearn: 0.5308610\ttotal: 1m\tremaining: 53.6s\n",
      "531:\tlearn: 0.5306898\ttotal: 1m\tremaining: 53.5s\n",
      "532:\tlearn: 0.5305059\ttotal: 1m\tremaining: 53.4s\n",
      "533:\tlearn: 0.5303628\ttotal: 1m 1s\tremaining: 53.3s\n",
      "534:\tlearn: 0.5302416\ttotal: 1m 1s\tremaining: 53.2s\n",
      "535:\tlearn: 0.5299345\ttotal: 1m 1s\tremaining: 53.1s\n",
      "536:\tlearn: 0.5298204\ttotal: 1m 1s\tremaining: 53s\n",
      "537:\tlearn: 0.5295880\ttotal: 1m 1s\tremaining: 52.9s\n",
      "538:\tlearn: 0.5295231\ttotal: 1m 1s\tremaining: 52.8s\n",
      "539:\tlearn: 0.5293239\ttotal: 1m 1s\tremaining: 52.7s\n",
      "540:\tlearn: 0.5292284\ttotal: 1m 2s\tremaining: 52.6s\n",
      "541:\tlearn: 0.5289290\ttotal: 1m 2s\tremaining: 52.5s\n",
      "542:\tlearn: 0.5287854\ttotal: 1m 2s\tremaining: 52.4s\n",
      "543:\tlearn: 0.5286987\ttotal: 1m 2s\tremaining: 52.3s\n",
      "544:\tlearn: 0.5285145\ttotal: 1m 2s\tremaining: 52.2s\n",
      "545:\tlearn: 0.5283599\ttotal: 1m 2s\tremaining: 52.1s\n",
      "546:\tlearn: 0.5282982\ttotal: 1m 2s\tremaining: 52s\n",
      "547:\tlearn: 0.5280606\ttotal: 1m 2s\tremaining: 51.9s\n",
      "548:\tlearn: 0.5278963\ttotal: 1m 3s\tremaining: 51.8s\n",
      "549:\tlearn: 0.5276785\ttotal: 1m 3s\tremaining: 51.7s\n",
      "550:\tlearn: 0.5275968\ttotal: 1m 3s\tremaining: 51.6s\n",
      "551:\tlearn: 0.5273594\ttotal: 1m 3s\tremaining: 51.4s\n",
      "552:\tlearn: 0.5272641\ttotal: 1m 3s\tremaining: 51.4s\n",
      "553:\tlearn: 0.5271099\ttotal: 1m 3s\tremaining: 51.3s\n",
      "554:\tlearn: 0.5269032\ttotal: 1m 3s\tremaining: 51.2s\n",
      "555:\tlearn: 0.5268300\ttotal: 1m 3s\tremaining: 51.1s\n",
      "556:\tlearn: 0.5266183\ttotal: 1m 4s\tremaining: 51s\n",
      "557:\tlearn: 0.5263777\ttotal: 1m 4s\tremaining: 50.9s\n",
      "558:\tlearn: 0.5260759\ttotal: 1m 4s\tremaining: 50.8s\n",
      "559:\tlearn: 0.5259095\ttotal: 1m 4s\tremaining: 50.6s\n",
      "560:\tlearn: 0.5258573\ttotal: 1m 4s\tremaining: 50.5s\n",
      "561:\tlearn: 0.5258163\ttotal: 1m 4s\tremaining: 50.4s\n",
      "562:\tlearn: 0.5255401\ttotal: 1m 4s\tremaining: 50.3s\n",
      "563:\tlearn: 0.5253139\ttotal: 1m 4s\tremaining: 50.2s\n",
      "564:\tlearn: 0.5251938\ttotal: 1m 5s\tremaining: 50.1s\n",
      "565:\tlearn: 0.5249604\ttotal: 1m 5s\tremaining: 50s\n",
      "566:\tlearn: 0.5249186\ttotal: 1m 5s\tremaining: 49.9s\n",
      "567:\tlearn: 0.5248169\ttotal: 1m 5s\tremaining: 49.8s\n",
      "568:\tlearn: 0.5245804\ttotal: 1m 5s\tremaining: 49.7s\n",
      "569:\tlearn: 0.5244125\ttotal: 1m 5s\tremaining: 49.6s\n",
      "570:\tlearn: 0.5242243\ttotal: 1m 5s\tremaining: 49.5s\n",
      "571:\tlearn: 0.5240578\ttotal: 1m 5s\tremaining: 49.4s\n",
      "572:\tlearn: 0.5238223\ttotal: 1m 6s\tremaining: 49.2s\n",
      "573:\tlearn: 0.5236664\ttotal: 1m 6s\tremaining: 49.1s\n",
      "574:\tlearn: 0.5235012\ttotal: 1m 6s\tremaining: 49s\n",
      "575:\tlearn: 0.5234930\ttotal: 1m 6s\tremaining: 48.9s\n",
      "576:\tlearn: 0.5233891\ttotal: 1m 6s\tremaining: 48.8s\n",
      "577:\tlearn: 0.5233474\ttotal: 1m 6s\tremaining: 48.7s\n",
      "578:\tlearn: 0.5231443\ttotal: 1m 6s\tremaining: 48.6s\n",
      "579:\tlearn: 0.5230291\ttotal: 1m 6s\tremaining: 48.5s\n",
      "580:\tlearn: 0.5227992\ttotal: 1m 7s\tremaining: 48.4s\n",
      "581:\tlearn: 0.5226706\ttotal: 1m 7s\tremaining: 48.3s\n",
      "582:\tlearn: 0.5226030\ttotal: 1m 7s\tremaining: 48.2s\n",
      "583:\tlearn: 0.5224465\ttotal: 1m 7s\tremaining: 48s\n",
      "584:\tlearn: 0.5224021\ttotal: 1m 7s\tremaining: 47.9s\n",
      "585:\tlearn: 0.5222153\ttotal: 1m 7s\tremaining: 47.8s\n",
      "586:\tlearn: 0.5220688\ttotal: 1m 7s\tremaining: 47.7s\n",
      "587:\tlearn: 0.5219395\ttotal: 1m 7s\tremaining: 47.6s\n",
      "588:\tlearn: 0.5216778\ttotal: 1m 8s\tremaining: 47.5s\n",
      "589:\tlearn: 0.5215406\ttotal: 1m 8s\tremaining: 47.4s\n",
      "590:\tlearn: 0.5214162\ttotal: 1m 8s\tremaining: 47.3s\n",
      "591:\tlearn: 0.5211093\ttotal: 1m 8s\tremaining: 47.2s\n",
      "592:\tlearn: 0.5210917\ttotal: 1m 8s\tremaining: 47.1s\n",
      "593:\tlearn: 0.5209650\ttotal: 1m 8s\tremaining: 47s\n",
      "594:\tlearn: 0.5206465\ttotal: 1m 8s\tremaining: 46.9s\n",
      "595:\tlearn: 0.5204817\ttotal: 1m 9s\tremaining: 46.8s\n",
      "596:\tlearn: 0.5203963\ttotal: 1m 9s\tremaining: 46.7s\n",
      "597:\tlearn: 0.5202291\ttotal: 1m 9s\tremaining: 46.6s\n",
      "598:\tlearn: 0.5201522\ttotal: 1m 9s\tremaining: 46.5s\n",
      "599:\tlearn: 0.5201143\ttotal: 1m 9s\tremaining: 46.3s\n",
      "600:\tlearn: 0.5200218\ttotal: 1m 9s\tremaining: 46.2s\n",
      "601:\tlearn: 0.5199379\ttotal: 1m 9s\tremaining: 46.1s\n",
      "602:\tlearn: 0.5196784\ttotal: 1m 9s\tremaining: 46s\n",
      "603:\tlearn: 0.5195497\ttotal: 1m 10s\tremaining: 45.9s\n",
      "604:\tlearn: 0.5194748\ttotal: 1m 10s\tremaining: 45.8s\n",
      "605:\tlearn: 0.5193984\ttotal: 1m 10s\tremaining: 45.7s\n",
      "606:\tlearn: 0.5192031\ttotal: 1m 10s\tremaining: 45.6s\n",
      "607:\tlearn: 0.5190025\ttotal: 1m 10s\tremaining: 45.5s\n",
      "608:\tlearn: 0.5188292\ttotal: 1m 10s\tremaining: 45.3s\n",
      "609:\tlearn: 0.5185323\ttotal: 1m 10s\tremaining: 45.2s\n",
      "610:\tlearn: 0.5184012\ttotal: 1m 10s\tremaining: 45.1s\n",
      "611:\tlearn: 0.5182466\ttotal: 1m 11s\tremaining: 45s\n",
      "612:\tlearn: 0.5181355\ttotal: 1m 11s\tremaining: 44.9s\n",
      "613:\tlearn: 0.5179682\ttotal: 1m 11s\tremaining: 44.8s\n",
      "614:\tlearn: 0.5179438\ttotal: 1m 11s\tremaining: 44.7s\n",
      "615:\tlearn: 0.5178846\ttotal: 1m 11s\tremaining: 44.6s\n",
      "616:\tlearn: 0.5178013\ttotal: 1m 11s\tremaining: 44.5s\n",
      "617:\tlearn: 0.5175707\ttotal: 1m 11s\tremaining: 44.4s\n",
      "618:\tlearn: 0.5173638\ttotal: 1m 11s\tremaining: 44.2s\n",
      "619:\tlearn: 0.5171723\ttotal: 1m 12s\tremaining: 44.1s\n",
      "620:\tlearn: 0.5170843\ttotal: 1m 12s\tremaining: 44s\n",
      "621:\tlearn: 0.5170329\ttotal: 1m 12s\tremaining: 43.9s\n",
      "622:\tlearn: 0.5169314\ttotal: 1m 12s\tremaining: 43.8s\n",
      "623:\tlearn: 0.5168616\ttotal: 1m 12s\tremaining: 43.7s\n",
      "624:\tlearn: 0.5167620\ttotal: 1m 12s\tremaining: 43.6s\n",
      "625:\tlearn: 0.5165486\ttotal: 1m 12s\tremaining: 43.5s\n",
      "626:\tlearn: 0.5163149\ttotal: 1m 12s\tremaining: 43.3s\n",
      "627:\tlearn: 0.5161624\ttotal: 1m 12s\tremaining: 43.2s\n",
      "628:\tlearn: 0.5160052\ttotal: 1m 13s\tremaining: 43.1s\n",
      "629:\tlearn: 0.5159227\ttotal: 1m 13s\tremaining: 43s\n",
      "630:\tlearn: 0.5157851\ttotal: 1m 13s\tremaining: 42.9s\n"
     ]
    },
    {
     "name": "stdout",
     "output_type": "stream",
     "text": [
      "631:\tlearn: 0.5157265\ttotal: 1m 13s\tremaining: 42.8s\n",
      "632:\tlearn: 0.5156085\ttotal: 1m 13s\tremaining: 42.7s\n",
      "633:\tlearn: 0.5154663\ttotal: 1m 13s\tremaining: 42.6s\n",
      "634:\tlearn: 0.5153418\ttotal: 1m 13s\tremaining: 42.5s\n",
      "635:\tlearn: 0.5152048\ttotal: 1m 14s\tremaining: 42.4s\n",
      "636:\tlearn: 0.5149223\ttotal: 1m 14s\tremaining: 42.2s\n",
      "637:\tlearn: 0.5148098\ttotal: 1m 14s\tremaining: 42.1s\n",
      "638:\tlearn: 0.5147383\ttotal: 1m 14s\tremaining: 42s\n",
      "639:\tlearn: 0.5144864\ttotal: 1m 14s\tremaining: 41.9s\n",
      "640:\tlearn: 0.5143232\ttotal: 1m 14s\tremaining: 41.8s\n",
      "641:\tlearn: 0.5141951\ttotal: 1m 14s\tremaining: 41.7s\n",
      "642:\tlearn: 0.5141232\ttotal: 1m 14s\tremaining: 41.6s\n",
      "643:\tlearn: 0.5140728\ttotal: 1m 15s\tremaining: 41.5s\n",
      "644:\tlearn: 0.5138278\ttotal: 1m 15s\tremaining: 41.4s\n",
      "645:\tlearn: 0.5135561\ttotal: 1m 15s\tremaining: 41.3s\n",
      "646:\tlearn: 0.5133383\ttotal: 1m 15s\tremaining: 41.1s\n",
      "647:\tlearn: 0.5130799\ttotal: 1m 15s\tremaining: 41s\n",
      "648:\tlearn: 0.5130413\ttotal: 1m 15s\tremaining: 40.9s\n",
      "649:\tlearn: 0.5130119\ttotal: 1m 15s\tremaining: 40.8s\n",
      "650:\tlearn: 0.5128777\ttotal: 1m 15s\tremaining: 40.7s\n",
      "651:\tlearn: 0.5127525\ttotal: 1m 16s\tremaining: 40.6s\n",
      "652:\tlearn: 0.5126398\ttotal: 1m 16s\tremaining: 40.5s\n",
      "653:\tlearn: 0.5124546\ttotal: 1m 16s\tremaining: 40.4s\n",
      "654:\tlearn: 0.5122062\ttotal: 1m 16s\tremaining: 40.2s\n",
      "655:\tlearn: 0.5120899\ttotal: 1m 16s\tremaining: 40.1s\n",
      "656:\tlearn: 0.5119736\ttotal: 1m 16s\tremaining: 40s\n",
      "657:\tlearn: 0.5119322\ttotal: 1m 16s\tremaining: 39.9s\n",
      "658:\tlearn: 0.5117211\ttotal: 1m 16s\tremaining: 39.8s\n",
      "659:\tlearn: 0.5116280\ttotal: 1m 17s\tremaining: 39.7s\n",
      "660:\tlearn: 0.5113485\ttotal: 1m 17s\tremaining: 39.6s\n",
      "661:\tlearn: 0.5110917\ttotal: 1m 17s\tremaining: 39.5s\n",
      "662:\tlearn: 0.5109483\ttotal: 1m 17s\tremaining: 39.4s\n",
      "663:\tlearn: 0.5107464\ttotal: 1m 17s\tremaining: 39.3s\n",
      "664:\tlearn: 0.5106573\ttotal: 1m 17s\tremaining: 39.1s\n",
      "665:\tlearn: 0.5103951\ttotal: 1m 17s\tremaining: 39s\n",
      "666:\tlearn: 0.5102979\ttotal: 1m 17s\tremaining: 38.9s\n",
      "667:\tlearn: 0.5101093\ttotal: 1m 18s\tremaining: 38.8s\n",
      "668:\tlearn: 0.5098671\ttotal: 1m 18s\tremaining: 38.7s\n",
      "669:\tlearn: 0.5096837\ttotal: 1m 18s\tremaining: 38.6s\n",
      "670:\tlearn: 0.5096308\ttotal: 1m 18s\tremaining: 38.5s\n",
      "671:\tlearn: 0.5093641\ttotal: 1m 18s\tremaining: 38.3s\n",
      "672:\tlearn: 0.5092298\ttotal: 1m 18s\tremaining: 38.2s\n",
      "673:\tlearn: 0.5090017\ttotal: 1m 18s\tremaining: 38.1s\n",
      "674:\tlearn: 0.5088515\ttotal: 1m 18s\tremaining: 38s\n",
      "675:\tlearn: 0.5086666\ttotal: 1m 19s\tremaining: 37.9s\n",
      "676:\tlearn: 0.5085413\ttotal: 1m 19s\tremaining: 37.8s\n",
      "677:\tlearn: 0.5083265\ttotal: 1m 19s\tremaining: 37.7s\n",
      "678:\tlearn: 0.5081368\ttotal: 1m 19s\tremaining: 37.6s\n",
      "679:\tlearn: 0.5079757\ttotal: 1m 19s\tremaining: 37.4s\n",
      "680:\tlearn: 0.5078567\ttotal: 1m 19s\tremaining: 37.3s\n",
      "681:\tlearn: 0.5075662\ttotal: 1m 19s\tremaining: 37.2s\n",
      "682:\tlearn: 0.5073574\ttotal: 1m 19s\tremaining: 37.1s\n",
      "683:\tlearn: 0.5072410\ttotal: 1m 20s\tremaining: 37s\n",
      "684:\tlearn: 0.5071246\ttotal: 1m 20s\tremaining: 36.9s\n",
      "685:\tlearn: 0.5070120\ttotal: 1m 20s\tremaining: 36.8s\n",
      "686:\tlearn: 0.5068115\ttotal: 1m 20s\tremaining: 36.6s\n",
      "687:\tlearn: 0.5065921\ttotal: 1m 20s\tremaining: 36.5s\n",
      "688:\tlearn: 0.5063901\ttotal: 1m 20s\tremaining: 36.4s\n",
      "689:\tlearn: 0.5062741\ttotal: 1m 20s\tremaining: 36.3s\n",
      "690:\tlearn: 0.5061342\ttotal: 1m 20s\tremaining: 36.2s\n",
      "691:\tlearn: 0.5060237\ttotal: 1m 21s\tremaining: 36.1s\n",
      "692:\tlearn: 0.5059424\ttotal: 1m 21s\tremaining: 36s\n",
      "693:\tlearn: 0.5057158\ttotal: 1m 21s\tremaining: 35.8s\n",
      "694:\tlearn: 0.5053863\ttotal: 1m 21s\tremaining: 35.7s\n",
      "695:\tlearn: 0.5053444\ttotal: 1m 21s\tremaining: 35.6s\n",
      "696:\tlearn: 0.5052500\ttotal: 1m 21s\tremaining: 35.5s\n",
      "697:\tlearn: 0.5050156\ttotal: 1m 21s\tremaining: 35.4s\n",
      "698:\tlearn: 0.5047166\ttotal: 1m 21s\tremaining: 35.3s\n",
      "699:\tlearn: 0.5045006\ttotal: 1m 22s\tremaining: 35.2s\n",
      "700:\tlearn: 0.5043606\ttotal: 1m 22s\tremaining: 35s\n",
      "701:\tlearn: 0.5041842\ttotal: 1m 22s\tremaining: 34.9s\n",
      "702:\tlearn: 0.5040231\ttotal: 1m 22s\tremaining: 34.8s\n",
      "703:\tlearn: 0.5039282\ttotal: 1m 22s\tremaining: 34.7s\n",
      "704:\tlearn: 0.5038769\ttotal: 1m 22s\tremaining: 34.6s\n",
      "705:\tlearn: 0.5037572\ttotal: 1m 22s\tremaining: 34.5s\n",
      "706:\tlearn: 0.5036915\ttotal: 1m 22s\tremaining: 34.4s\n",
      "707:\tlearn: 0.5034898\ttotal: 1m 23s\tremaining: 34.3s\n",
      "708:\tlearn: 0.5033081\ttotal: 1m 23s\tremaining: 34.1s\n",
      "709:\tlearn: 0.5031938\ttotal: 1m 23s\tremaining: 34s\n",
      "710:\tlearn: 0.5031195\ttotal: 1m 23s\tremaining: 33.9s\n",
      "711:\tlearn: 0.5029195\ttotal: 1m 23s\tremaining: 33.8s\n",
      "712:\tlearn: 0.5028727\ttotal: 1m 23s\tremaining: 33.7s\n",
      "713:\tlearn: 0.5026346\ttotal: 1m 23s\tremaining: 33.6s\n",
      "714:\tlearn: 0.5023905\ttotal: 1m 23s\tremaining: 33.5s\n",
      "715:\tlearn: 0.5021937\ttotal: 1m 24s\tremaining: 33.3s\n",
      "716:\tlearn: 0.5021087\ttotal: 1m 24s\tremaining: 33.2s\n",
      "717:\tlearn: 0.5020306\ttotal: 1m 24s\tremaining: 33.1s\n",
      "718:\tlearn: 0.5018328\ttotal: 1m 24s\tremaining: 33s\n",
      "719:\tlearn: 0.5017180\ttotal: 1m 24s\tremaining: 32.9s\n",
      "720:\tlearn: 0.5016661\ttotal: 1m 24s\tremaining: 32.8s\n",
      "721:\tlearn: 0.5012965\ttotal: 1m 24s\tremaining: 32.7s\n",
      "722:\tlearn: 0.5011945\ttotal: 1m 24s\tremaining: 32.5s\n",
      "723:\tlearn: 0.5010941\ttotal: 1m 25s\tremaining: 32.4s\n",
      "724:\tlearn: 0.5009043\ttotal: 1m 25s\tremaining: 32.3s\n",
      "725:\tlearn: 0.5008313\ttotal: 1m 25s\tremaining: 32.2s\n",
      "726:\tlearn: 0.5006959\ttotal: 1m 25s\tremaining: 32.1s\n",
      "727:\tlearn: 0.5005299\ttotal: 1m 25s\tremaining: 32s\n",
      "728:\tlearn: 0.5003983\ttotal: 1m 25s\tremaining: 31.8s\n",
      "729:\tlearn: 0.5002312\ttotal: 1m 25s\tremaining: 31.7s\n",
      "730:\tlearn: 0.5001698\ttotal: 1m 25s\tremaining: 31.6s\n",
      "731:\tlearn: 0.5000925\ttotal: 1m 26s\tremaining: 31.5s\n",
      "732:\tlearn: 0.5000574\ttotal: 1m 26s\tremaining: 31.4s\n",
      "733:\tlearn: 0.5000353\ttotal: 1m 26s\tremaining: 31.3s\n",
      "734:\tlearn: 0.4997659\ttotal: 1m 26s\tremaining: 31.2s\n",
      "735:\tlearn: 0.4997346\ttotal: 1m 26s\tremaining: 31s\n",
      "736:\tlearn: 0.4996520\ttotal: 1m 26s\tremaining: 30.9s\n",
      "737:\tlearn: 0.4995210\ttotal: 1m 26s\tremaining: 30.8s\n",
      "738:\tlearn: 0.4993410\ttotal: 1m 26s\tremaining: 30.7s\n",
      "739:\tlearn: 0.4993044\ttotal: 1m 27s\tremaining: 30.6s\n",
      "740:\tlearn: 0.4990861\ttotal: 1m 27s\tremaining: 30.5s\n",
      "741:\tlearn: 0.4989892\ttotal: 1m 27s\tremaining: 30.3s\n",
      "742:\tlearn: 0.4987895\ttotal: 1m 27s\tremaining: 30.2s\n",
      "743:\tlearn: 0.4985675\ttotal: 1m 27s\tremaining: 30.1s\n",
      "744:\tlearn: 0.4984775\ttotal: 1m 27s\tremaining: 30s\n",
      "745:\tlearn: 0.4983320\ttotal: 1m 27s\tremaining: 29.9s\n",
      "746:\tlearn: 0.4980968\ttotal: 1m 27s\tremaining: 29.8s\n",
      "747:\tlearn: 0.4979421\ttotal: 1m 28s\tremaining: 29.7s\n",
      "748:\tlearn: 0.4977753\ttotal: 1m 28s\tremaining: 29.6s\n",
      "749:\tlearn: 0.4976702\ttotal: 1m 28s\tremaining: 29.4s\n",
      "750:\tlearn: 0.4975261\ttotal: 1m 28s\tremaining: 29.3s\n",
      "751:\tlearn: 0.4973031\ttotal: 1m 28s\tremaining: 29.2s\n",
      "752:\tlearn: 0.4971223\ttotal: 1m 28s\tremaining: 29.1s\n",
      "753:\tlearn: 0.4968640\ttotal: 1m 28s\tremaining: 29s\n",
      "754:\tlearn: 0.4966914\ttotal: 1m 29s\tremaining: 28.9s\n",
      "755:\tlearn: 0.4966028\ttotal: 1m 29s\tremaining: 28.8s\n",
      "756:\tlearn: 0.4965666\ttotal: 1m 29s\tremaining: 28.7s\n",
      "757:\tlearn: 0.4964038\ttotal: 1m 29s\tremaining: 28.5s\n",
      "758:\tlearn: 0.4961924\ttotal: 1m 29s\tremaining: 28.4s\n",
      "759:\tlearn: 0.4960572\ttotal: 1m 29s\tremaining: 28.3s\n",
      "760:\tlearn: 0.4959085\ttotal: 1m 29s\tremaining: 28.2s\n",
      "761:\tlearn: 0.4957874\ttotal: 1m 29s\tremaining: 28.1s\n",
      "762:\tlearn: 0.4956064\ttotal: 1m 30s\tremaining: 28s\n",
      "763:\tlearn: 0.4954103\ttotal: 1m 30s\tremaining: 27.9s\n",
      "764:\tlearn: 0.4953138\ttotal: 1m 30s\tremaining: 27.8s\n",
      "765:\tlearn: 0.4950936\ttotal: 1m 30s\tremaining: 27.6s\n",
      "766:\tlearn: 0.4950132\ttotal: 1m 30s\tremaining: 27.5s\n",
      "767:\tlearn: 0.4949355\ttotal: 1m 30s\tremaining: 27.4s\n",
      "768:\tlearn: 0.4947090\ttotal: 1m 30s\tremaining: 27.3s\n",
      "769:\tlearn: 0.4945429\ttotal: 1m 31s\tremaining: 27.2s\n",
      "770:\tlearn: 0.4943088\ttotal: 1m 31s\tremaining: 27.1s\n",
      "771:\tlearn: 0.4939904\ttotal: 1m 31s\tremaining: 27s\n",
      "772:\tlearn: 0.4939007\ttotal: 1m 31s\tremaining: 26.8s\n",
      "773:\tlearn: 0.4936464\ttotal: 1m 31s\tremaining: 26.7s\n",
      "774:\tlearn: 0.4934782\ttotal: 1m 31s\tremaining: 26.6s\n",
      "775:\tlearn: 0.4933203\ttotal: 1m 31s\tremaining: 26.5s\n",
      "776:\tlearn: 0.4931255\ttotal: 1m 31s\tremaining: 26.4s\n",
      "777:\tlearn: 0.4929665\ttotal: 1m 32s\tremaining: 26.3s\n",
      "778:\tlearn: 0.4928337\ttotal: 1m 32s\tremaining: 26.1s\n",
      "779:\tlearn: 0.4926742\ttotal: 1m 32s\tremaining: 26s\n",
      "780:\tlearn: 0.4926319\ttotal: 1m 32s\tremaining: 25.9s\n",
      "781:\tlearn: 0.4925183\ttotal: 1m 32s\tremaining: 25.8s\n",
      "782:\tlearn: 0.4924029\ttotal: 1m 32s\tremaining: 25.7s\n",
      "783:\tlearn: 0.4922073\ttotal: 1m 32s\tremaining: 25.6s\n",
      "784:\tlearn: 0.4920740\ttotal: 1m 32s\tremaining: 25.5s\n",
      "785:\tlearn: 0.4918942\ttotal: 1m 33s\tremaining: 25.4s\n",
      "786:\tlearn: 0.4918258\ttotal: 1m 33s\tremaining: 25.2s\n"
     ]
    },
    {
     "name": "stdout",
     "output_type": "stream",
     "text": [
      "787:\tlearn: 0.4917518\ttotal: 1m 33s\tremaining: 25.1s\n",
      "788:\tlearn: 0.4915627\ttotal: 1m 33s\tremaining: 25s\n",
      "789:\tlearn: 0.4914746\ttotal: 1m 33s\tremaining: 24.9s\n",
      "790:\tlearn: 0.4913407\ttotal: 1m 33s\tremaining: 24.8s\n",
      "791:\tlearn: 0.4912417\ttotal: 1m 33s\tremaining: 24.7s\n",
      "792:\tlearn: 0.4910250\ttotal: 1m 34s\tremaining: 24.5s\n",
      "793:\tlearn: 0.4907803\ttotal: 1m 34s\tremaining: 24.4s\n",
      "794:\tlearn: 0.4906671\ttotal: 1m 34s\tremaining: 24.3s\n",
      "795:\tlearn: 0.4906023\ttotal: 1m 34s\tremaining: 24.2s\n",
      "796:\tlearn: 0.4904398\ttotal: 1m 34s\tremaining: 24.1s\n",
      "797:\tlearn: 0.4903263\ttotal: 1m 34s\tremaining: 24s\n",
      "798:\tlearn: 0.4901340\ttotal: 1m 34s\tremaining: 23.9s\n",
      "799:\tlearn: 0.4899597\ttotal: 1m 34s\tremaining: 23.7s\n",
      "800:\tlearn: 0.4897819\ttotal: 1m 35s\tremaining: 23.6s\n",
      "801:\tlearn: 0.4897678\ttotal: 1m 35s\tremaining: 23.5s\n",
      "802:\tlearn: 0.4896386\ttotal: 1m 35s\tremaining: 23.4s\n",
      "803:\tlearn: 0.4893850\ttotal: 1m 35s\tremaining: 23.3s\n",
      "804:\tlearn: 0.4892489\ttotal: 1m 35s\tremaining: 23.2s\n",
      "805:\tlearn: 0.4891081\ttotal: 1m 35s\tremaining: 23s\n",
      "806:\tlearn: 0.4890741\ttotal: 1m 35s\tremaining: 22.9s\n",
      "807:\tlearn: 0.4890603\ttotal: 1m 35s\tremaining: 22.8s\n",
      "808:\tlearn: 0.4887712\ttotal: 1m 36s\tremaining: 22.7s\n",
      "809:\tlearn: 0.4885586\ttotal: 1m 36s\tremaining: 22.6s\n",
      "810:\tlearn: 0.4883683\ttotal: 1m 36s\tremaining: 22.5s\n",
      "811:\tlearn: 0.4882342\ttotal: 1m 36s\tremaining: 22.3s\n",
      "812:\tlearn: 0.4880332\ttotal: 1m 36s\tremaining: 22.2s\n",
      "813:\tlearn: 0.4878265\ttotal: 1m 36s\tremaining: 22.1s\n",
      "814:\tlearn: 0.4876170\ttotal: 1m 36s\tremaining: 22s\n",
      "815:\tlearn: 0.4875038\ttotal: 1m 37s\tremaining: 21.9s\n",
      "816:\tlearn: 0.4872920\ttotal: 1m 37s\tremaining: 21.8s\n",
      "817:\tlearn: 0.4870956\ttotal: 1m 37s\tremaining: 21.6s\n",
      "818:\tlearn: 0.4869612\ttotal: 1m 37s\tremaining: 21.5s\n",
      "819:\tlearn: 0.4868021\ttotal: 1m 37s\tremaining: 21.4s\n",
      "820:\tlearn: 0.4866067\ttotal: 1m 37s\tremaining: 21.3s\n",
      "821:\tlearn: 0.4864866\ttotal: 1m 37s\tremaining: 21.2s\n",
      "822:\tlearn: 0.4862910\ttotal: 1m 37s\tremaining: 21.1s\n",
      "823:\tlearn: 0.4862204\ttotal: 1m 38s\tremaining: 20.9s\n",
      "824:\tlearn: 0.4860848\ttotal: 1m 38s\tremaining: 20.8s\n",
      "825:\tlearn: 0.4859206\ttotal: 1m 38s\tremaining: 20.7s\n",
      "826:\tlearn: 0.4858350\ttotal: 1m 38s\tremaining: 20.6s\n",
      "827:\tlearn: 0.4857293\ttotal: 1m 38s\tremaining: 20.5s\n",
      "828:\tlearn: 0.4856742\ttotal: 1m 38s\tremaining: 20.4s\n",
      "829:\tlearn: 0.4856124\ttotal: 1m 38s\tremaining: 20.2s\n",
      "830:\tlearn: 0.4855001\ttotal: 1m 38s\tremaining: 20.1s\n",
      "831:\tlearn: 0.4853979\ttotal: 1m 39s\tremaining: 20s\n",
      "832:\tlearn: 0.4853871\ttotal: 1m 39s\tremaining: 19.9s\n",
      "833:\tlearn: 0.4852421\ttotal: 1m 39s\tremaining: 19.8s\n",
      "834:\tlearn: 0.4851354\ttotal: 1m 39s\tremaining: 19.7s\n",
      "835:\tlearn: 0.4850809\ttotal: 1m 39s\tremaining: 19.5s\n",
      "836:\tlearn: 0.4849389\ttotal: 1m 39s\tremaining: 19.4s\n",
      "837:\tlearn: 0.4848485\ttotal: 1m 39s\tremaining: 19.3s\n",
      "838:\tlearn: 0.4847519\ttotal: 1m 40s\tremaining: 19.2s\n",
      "839:\tlearn: 0.4844559\ttotal: 1m 40s\tremaining: 19.1s\n",
      "840:\tlearn: 0.4843718\ttotal: 1m 40s\tremaining: 19s\n",
      "841:\tlearn: 0.4843460\ttotal: 1m 40s\tremaining: 18.8s\n",
      "842:\tlearn: 0.4842138\ttotal: 1m 40s\tremaining: 18.7s\n",
      "843:\tlearn: 0.4840152\ttotal: 1m 40s\tremaining: 18.6s\n",
      "844:\tlearn: 0.4838596\ttotal: 1m 40s\tremaining: 18.5s\n",
      "845:\tlearn: 0.4836891\ttotal: 1m 40s\tremaining: 18.4s\n",
      "846:\tlearn: 0.4835801\ttotal: 1m 41s\tremaining: 18.3s\n",
      "847:\tlearn: 0.4833314\ttotal: 1m 41s\tremaining: 18.1s\n",
      "848:\tlearn: 0.4832105\ttotal: 1m 41s\tremaining: 18s\n",
      "849:\tlearn: 0.4830210\ttotal: 1m 41s\tremaining: 17.9s\n",
      "850:\tlearn: 0.4829494\ttotal: 1m 41s\tremaining: 17.8s\n",
      "851:\tlearn: 0.4828664\ttotal: 1m 41s\tremaining: 17.7s\n",
      "852:\tlearn: 0.4827343\ttotal: 1m 41s\tremaining: 17.6s\n",
      "853:\tlearn: 0.4824460\ttotal: 1m 42s\tremaining: 17.4s\n",
      "854:\tlearn: 0.4823585\ttotal: 1m 42s\tremaining: 17.3s\n",
      "855:\tlearn: 0.4823145\ttotal: 1m 42s\tremaining: 17.2s\n",
      "856:\tlearn: 0.4821473\ttotal: 1m 42s\tremaining: 17.1s\n",
      "857:\tlearn: 0.4820253\ttotal: 1m 42s\tremaining: 17s\n",
      "858:\tlearn: 0.4819179\ttotal: 1m 42s\tremaining: 16.9s\n",
      "859:\tlearn: 0.4818323\ttotal: 1m 42s\tremaining: 16.7s\n",
      "860:\tlearn: 0.4816988\ttotal: 1m 42s\tremaining: 16.6s\n",
      "861:\tlearn: 0.4815777\ttotal: 1m 43s\tremaining: 16.5s\n",
      "862:\tlearn: 0.4814859\ttotal: 1m 43s\tremaining: 16.4s\n",
      "863:\tlearn: 0.4813449\ttotal: 1m 43s\tremaining: 16.3s\n",
      "864:\tlearn: 0.4812137\ttotal: 1m 43s\tremaining: 16.1s\n",
      "865:\tlearn: 0.4811380\ttotal: 1m 43s\tremaining: 16s\n",
      "866:\tlearn: 0.4810977\ttotal: 1m 43s\tremaining: 15.9s\n",
      "867:\tlearn: 0.4810185\ttotal: 1m 43s\tremaining: 15.8s\n",
      "868:\tlearn: 0.4810003\ttotal: 1m 43s\tremaining: 15.7s\n",
      "869:\tlearn: 0.4808697\ttotal: 1m 44s\tremaining: 15.6s\n",
      "870:\tlearn: 0.4807111\ttotal: 1m 44s\tremaining: 15.4s\n",
      "871:\tlearn: 0.4806449\ttotal: 1m 44s\tremaining: 15.3s\n",
      "872:\tlearn: 0.4805147\ttotal: 1m 44s\tremaining: 15.2s\n",
      "873:\tlearn: 0.4804034\ttotal: 1m 44s\tremaining: 15.1s\n",
      "874:\tlearn: 0.4802949\ttotal: 1m 44s\tremaining: 15s\n",
      "875:\tlearn: 0.4801806\ttotal: 1m 44s\tremaining: 14.8s\n",
      "876:\tlearn: 0.4800682\ttotal: 1m 45s\tremaining: 14.7s\n",
      "877:\tlearn: 0.4798518\ttotal: 1m 45s\tremaining: 14.6s\n",
      "878:\tlearn: 0.4797454\ttotal: 1m 45s\tremaining: 14.5s\n",
      "879:\tlearn: 0.4797033\ttotal: 1m 45s\tremaining: 14.4s\n",
      "880:\tlearn: 0.4795369\ttotal: 1m 45s\tremaining: 14.3s\n",
      "881:\tlearn: 0.4794059\ttotal: 1m 45s\tremaining: 14.1s\n",
      "882:\tlearn: 0.4793781\ttotal: 1m 45s\tremaining: 14s\n",
      "883:\tlearn: 0.4792434\ttotal: 1m 45s\tremaining: 13.9s\n",
      "884:\tlearn: 0.4790224\ttotal: 1m 46s\tremaining: 13.8s\n",
      "885:\tlearn: 0.4788994\ttotal: 1m 46s\tremaining: 13.7s\n",
      "886:\tlearn: 0.4788205\ttotal: 1m 46s\tremaining: 13.5s\n",
      "887:\tlearn: 0.4787738\ttotal: 1m 46s\tremaining: 13.4s\n",
      "888:\tlearn: 0.4786043\ttotal: 1m 46s\tremaining: 13.3s\n",
      "889:\tlearn: 0.4784406\ttotal: 1m 46s\tremaining: 13.2s\n",
      "890:\tlearn: 0.4782388\ttotal: 1m 46s\tremaining: 13.1s\n",
      "891:\tlearn: 0.4780969\ttotal: 1m 46s\tremaining: 13s\n",
      "892:\tlearn: 0.4779798\ttotal: 1m 47s\tremaining: 12.8s\n",
      "893:\tlearn: 0.4777361\ttotal: 1m 47s\tremaining: 12.7s\n",
      "894:\tlearn: 0.4776003\ttotal: 1m 47s\tremaining: 12.6s\n",
      "895:\tlearn: 0.4774483\ttotal: 1m 47s\tremaining: 12.5s\n",
      "896:\tlearn: 0.4773267\ttotal: 1m 47s\tremaining: 12.4s\n",
      "897:\tlearn: 0.4773176\ttotal: 1m 47s\tremaining: 12.2s\n",
      "898:\tlearn: 0.4771272\ttotal: 1m 47s\tremaining: 12.1s\n",
      "899:\tlearn: 0.4770561\ttotal: 1m 48s\tremaining: 12s\n",
      "900:\tlearn: 0.4769318\ttotal: 1m 48s\tremaining: 11.9s\n",
      "901:\tlearn: 0.4768734\ttotal: 1m 48s\tremaining: 11.8s\n",
      "902:\tlearn: 0.4767606\ttotal: 1m 48s\tremaining: 11.7s\n",
      "903:\tlearn: 0.4767289\ttotal: 1m 48s\tremaining: 11.5s\n",
      "904:\tlearn: 0.4765381\ttotal: 1m 48s\tremaining: 11.4s\n",
      "905:\tlearn: 0.4763772\ttotal: 1m 48s\tremaining: 11.3s\n",
      "906:\tlearn: 0.4763409\ttotal: 1m 49s\tremaining: 11.2s\n",
      "907:\tlearn: 0.4762340\ttotal: 1m 49s\tremaining: 11.1s\n",
      "908:\tlearn: 0.4761188\ttotal: 1m 49s\tremaining: 10.9s\n",
      "909:\tlearn: 0.4759332\ttotal: 1m 49s\tremaining: 10.8s\n",
      "910:\tlearn: 0.4758908\ttotal: 1m 49s\tremaining: 10.7s\n",
      "911:\tlearn: 0.4757601\ttotal: 1m 49s\tremaining: 10.6s\n",
      "912:\tlearn: 0.4756250\ttotal: 1m 49s\tremaining: 10.5s\n",
      "913:\tlearn: 0.4754966\ttotal: 1m 49s\tremaining: 10.3s\n",
      "914:\tlearn: 0.4754403\ttotal: 1m 50s\tremaining: 10.2s\n",
      "915:\tlearn: 0.4753124\ttotal: 1m 50s\tremaining: 10.1s\n",
      "916:\tlearn: 0.4752752\ttotal: 1m 50s\tremaining: 9.98s\n",
      "917:\tlearn: 0.4751571\ttotal: 1m 50s\tremaining: 9.86s\n",
      "918:\tlearn: 0.4749916\ttotal: 1m 50s\tremaining: 9.74s\n",
      "919:\tlearn: 0.4748742\ttotal: 1m 50s\tremaining: 9.62s\n",
      "920:\tlearn: 0.4747384\ttotal: 1m 50s\tremaining: 9.5s\n",
      "921:\tlearn: 0.4746434\ttotal: 1m 50s\tremaining: 9.38s\n",
      "922:\tlearn: 0.4745768\ttotal: 1m 51s\tremaining: 9.26s\n",
      "923:\tlearn: 0.4744379\ttotal: 1m 51s\tremaining: 9.14s\n",
      "924:\tlearn: 0.4743099\ttotal: 1m 51s\tremaining: 9.02s\n",
      "925:\tlearn: 0.4740310\ttotal: 1m 51s\tremaining: 8.9s\n",
      "926:\tlearn: 0.4738690\ttotal: 1m 51s\tremaining: 8.78s\n",
      "927:\tlearn: 0.4737203\ttotal: 1m 51s\tremaining: 8.66s\n",
      "928:\tlearn: 0.4735732\ttotal: 1m 51s\tremaining: 8.54s\n",
      "929:\tlearn: 0.4735014\ttotal: 1m 51s\tremaining: 8.42s\n",
      "930:\tlearn: 0.4734021\ttotal: 1m 52s\tremaining: 8.3s\n",
      "931:\tlearn: 0.4732880\ttotal: 1m 52s\tremaining: 8.18s\n",
      "932:\tlearn: 0.4732747\ttotal: 1m 52s\tremaining: 8.06s\n",
      "933:\tlearn: 0.4732572\ttotal: 1m 52s\tremaining: 7.94s\n",
      "934:\tlearn: 0.4731388\ttotal: 1m 52s\tremaining: 7.82s\n",
      "935:\tlearn: 0.4728848\ttotal: 1m 52s\tremaining: 7.7s\n",
      "936:\tlearn: 0.4727715\ttotal: 1m 52s\tremaining: 7.58s\n",
      "937:\tlearn: 0.4726175\ttotal: 1m 52s\tremaining: 7.46s\n",
      "938:\tlearn: 0.4725620\ttotal: 1m 53s\tremaining: 7.34s\n",
      "939:\tlearn: 0.4723859\ttotal: 1m 53s\tremaining: 7.22s\n",
      "940:\tlearn: 0.4722793\ttotal: 1m 53s\tremaining: 7.1s\n",
      "941:\tlearn: 0.4720878\ttotal: 1m 53s\tremaining: 6.98s\n",
      "942:\tlearn: 0.4720244\ttotal: 1m 53s\tremaining: 6.86s\n"
     ]
    },
    {
     "name": "stdout",
     "output_type": "stream",
     "text": [
      "943:\tlearn: 0.4719341\ttotal: 1m 53s\tremaining: 6.74s\n",
      "944:\tlearn: 0.4718587\ttotal: 1m 53s\tremaining: 6.62s\n",
      "945:\tlearn: 0.4717717\ttotal: 1m 53s\tremaining: 6.5s\n",
      "946:\tlearn: 0.4716193\ttotal: 1m 53s\tremaining: 6.38s\n",
      "947:\tlearn: 0.4715923\ttotal: 1m 54s\tremaining: 6.26s\n",
      "948:\tlearn: 0.4715069\ttotal: 1m 54s\tremaining: 6.14s\n",
      "949:\tlearn: 0.4713665\ttotal: 1m 54s\tremaining: 6.02s\n",
      "950:\tlearn: 0.4712184\ttotal: 1m 54s\tremaining: 5.9s\n",
      "951:\tlearn: 0.4711960\ttotal: 1m 54s\tremaining: 5.78s\n",
      "952:\tlearn: 0.4710974\ttotal: 1m 54s\tremaining: 5.66s\n",
      "953:\tlearn: 0.4709040\ttotal: 1m 54s\tremaining: 5.54s\n",
      "954:\tlearn: 0.4708523\ttotal: 1m 54s\tremaining: 5.42s\n",
      "955:\tlearn: 0.4707471\ttotal: 1m 55s\tremaining: 5.3s\n",
      "956:\tlearn: 0.4706781\ttotal: 1m 55s\tremaining: 5.18s\n",
      "957:\tlearn: 0.4704904\ttotal: 1m 55s\tremaining: 5.06s\n",
      "958:\tlearn: 0.4703276\ttotal: 1m 55s\tremaining: 4.94s\n",
      "959:\tlearn: 0.4702598\ttotal: 1m 55s\tremaining: 4.82s\n",
      "960:\tlearn: 0.4702287\ttotal: 1m 55s\tremaining: 4.7s\n",
      "961:\tlearn: 0.4701394\ttotal: 1m 55s\tremaining: 4.58s\n",
      "962:\tlearn: 0.4699902\ttotal: 1m 56s\tremaining: 4.46s\n",
      "963:\tlearn: 0.4698626\ttotal: 1m 56s\tremaining: 4.34s\n",
      "964:\tlearn: 0.4697719\ttotal: 1m 56s\tremaining: 4.22s\n",
      "965:\tlearn: 0.4695624\ttotal: 1m 56s\tremaining: 4.1s\n",
      "966:\tlearn: 0.4694227\ttotal: 1m 56s\tremaining: 3.98s\n",
      "967:\tlearn: 0.4693324\ttotal: 1m 56s\tremaining: 3.86s\n",
      "968:\tlearn: 0.4692780\ttotal: 1m 56s\tremaining: 3.74s\n",
      "969:\tlearn: 0.4692091\ttotal: 1m 56s\tremaining: 3.62s\n",
      "970:\tlearn: 0.4691150\ttotal: 1m 57s\tremaining: 3.5s\n",
      "971:\tlearn: 0.4690608\ttotal: 1m 57s\tremaining: 3.38s\n",
      "972:\tlearn: 0.4689254\ttotal: 1m 57s\tremaining: 3.26s\n",
      "973:\tlearn: 0.4688918\ttotal: 1m 57s\tremaining: 3.14s\n",
      "974:\tlearn: 0.4687940\ttotal: 1m 57s\tremaining: 3.02s\n",
      "975:\tlearn: 0.4687311\ttotal: 1m 57s\tremaining: 2.9s\n",
      "976:\tlearn: 0.4685495\ttotal: 1m 57s\tremaining: 2.77s\n",
      "977:\tlearn: 0.4684698\ttotal: 1m 58s\tremaining: 2.65s\n",
      "978:\tlearn: 0.4684071\ttotal: 1m 58s\tremaining: 2.53s\n",
      "979:\tlearn: 0.4682995\ttotal: 1m 58s\tremaining: 2.41s\n",
      "980:\tlearn: 0.4681486\ttotal: 1m 58s\tremaining: 2.29s\n",
      "981:\tlearn: 0.4679552\ttotal: 1m 58s\tremaining: 2.17s\n",
      "982:\tlearn: 0.4678059\ttotal: 1m 58s\tremaining: 2.05s\n",
      "983:\tlearn: 0.4676578\ttotal: 1m 58s\tremaining: 1.93s\n",
      "984:\tlearn: 0.4675481\ttotal: 1m 58s\tremaining: 1.81s\n",
      "985:\tlearn: 0.4674027\ttotal: 1m 59s\tremaining: 1.69s\n",
      "986:\tlearn: 0.4672951\ttotal: 1m 59s\tremaining: 1.57s\n",
      "987:\tlearn: 0.4671833\ttotal: 1m 59s\tremaining: 1.45s\n",
      "988:\tlearn: 0.4670816\ttotal: 1m 59s\tremaining: 1.33s\n",
      "989:\tlearn: 0.4669676\ttotal: 1m 59s\tremaining: 1.21s\n",
      "990:\tlearn: 0.4669052\ttotal: 1m 59s\tremaining: 1.09s\n",
      "991:\tlearn: 0.4667929\ttotal: 1m 59s\tremaining: 966ms\n",
      "992:\tlearn: 0.4667646\ttotal: 1m 59s\tremaining: 846ms\n",
      "993:\tlearn: 0.4665968\ttotal: 2m\tremaining: 725ms\n",
      "994:\tlearn: 0.4664439\ttotal: 2m\tremaining: 604ms\n",
      "995:\tlearn: 0.4663216\ttotal: 2m\tremaining: 483ms\n",
      "996:\tlearn: 0.4662442\ttotal: 2m\tremaining: 362ms\n",
      "997:\tlearn: 0.4661283\ttotal: 2m\tremaining: 242ms\n",
      "998:\tlearn: 0.4660915\ttotal: 2m\tremaining: 121ms\n",
      "999:\tlearn: 0.4659779\ttotal: 2m\tremaining: 0us\n"
     ]
    }
   ],
   "source": [
    "cb_naive_model=cb_1.fit(X_train,y_train,cat_features=['area_cluster', 'segment', 'model', 'fuel_type', 'max_torque', 'max_power', 'engine_type', 'is_esc', 'is_adjustable_steering', 'is_tpms', 'is_parking_sensors', 'is_parking_camera', 'rear_brakes_type', 'transmission_type', 'steering_type', 'is_front_fog_lights', 'is_rear_window_wiper', 'is_rear_window_washer', 'is_rear_window_defogger', 'is_brake_assist', 'is_power_door_locks', 'is_central_locking', 'is_power_steering', 'is_driver_seat_height_adjustable', 'is_day_night_rear_view_mirror', 'is_ecw', 'is_speed_alert'])"
   ]
  },
  {
   "cell_type": "code",
   "execution_count": 52,
   "id": "924af87b",
   "metadata": {},
   "outputs": [
    {
     "data": {
      "text/plain": [
       "{'learn': {'Logloss': 0.20238971654320137}}"
      ]
     },
     "execution_count": 52,
     "metadata": {},
     "output_type": "execute_result"
    }
   ],
   "source": [
    "cb_naive_model.best_score_"
   ]
  },
  {
   "cell_type": "code",
   "execution_count": 73,
   "id": "4675824f",
   "metadata": {},
   "outputs": [
    {
     "data": {
      "text/plain": [
       "{'learn': {'Logloss': 0.429270655786123}}"
      ]
     },
     "execution_count": 73,
     "metadata": {},
     "output_type": "execute_result"
    }
   ],
   "source": [
    "cb_naive_model.best_score_ #When scale_pos_weight was 5"
   ]
  },
  {
   "cell_type": "code",
   "execution_count": 81,
   "id": "1a9188f2",
   "metadata": {},
   "outputs": [
    {
     "data": {
      "text/plain": [
       "{'learn': {'Logloss': 0.4917061768485262}}"
      ]
     },
     "execution_count": 81,
     "metadata": {},
     "output_type": "execute_result"
    }
   ],
   "source": [
    "cb_naive_model.best_score_ #class_weights=[1,10]"
   ]
  },
  {
   "cell_type": "code",
   "execution_count": 88,
   "id": "e8bf6e84",
   "metadata": {},
   "outputs": [
    {
     "data": {
      "text/plain": [
       "{'learn': {'Logloss': 0.48560890020131386}}"
      ]
     },
     "execution_count": 88,
     "metadata": {},
     "output_type": "execute_result"
    }
   ],
   "source": [
    "cb_naive_model.best_score_ #When scale_pos_weight was 20"
   ]
  },
  {
   "cell_type": "code",
   "execution_count": 94,
   "id": "b88db8a4",
   "metadata": {},
   "outputs": [
    {
     "data": {
      "text/plain": [
       "{'learn': {'Logloss': 0.45045182130860933}}"
      ]
     },
     "execution_count": 94,
     "metadata": {},
     "output_type": "execute_result"
    }
   ],
   "source": [
    "cb_naive_model.best_score_ #When scale_pos_weight was 30"
   ]
  },
  {
   "cell_type": "code",
   "execution_count": 100,
   "id": "425e0a8f",
   "metadata": {},
   "outputs": [
    {
     "data": {
      "text/plain": [
       "{'learn': {'Logloss': 0.49539548561667696}}"
      ]
     },
     "execution_count": 100,
     "metadata": {},
     "output_type": "execute_result"
    }
   ],
   "source": [
    "cb_naive_model.best_score_ #class_weights=[1,15]"
   ]
  },
  {
   "cell_type": "code",
   "execution_count": 106,
   "id": "fe4f5cbd",
   "metadata": {},
   "outputs": [
    {
     "data": {
      "text/plain": [
       "{'learn': {'Logloss': 0.4659779001563421}}"
      ]
     },
     "execution_count": 106,
     "metadata": {},
     "output_type": "execute_result"
    }
   ],
   "source": [
    "cb_naive_model.best_score_ #class_weights=[1,25]"
   ]
  },
  {
   "cell_type": "code",
   "execution_count": 109,
   "id": "7598a7ae",
   "metadata": {},
   "outputs": [],
   "source": [
    "cb_naive_model_result=cb_naive_model.predict(X_test)"
   ]
  },
  {
   "cell_type": "code",
   "execution_count": 57,
   "id": "0f4807e7",
   "metadata": {},
   "outputs": [
    {
     "data": {
      "text/plain": [
       "12500"
      ]
     },
     "execution_count": 57,
     "metadata": {},
     "output_type": "execute_result"
    }
   ],
   "source": [
    "len(cb_naive_model_result)"
   ]
  },
  {
   "cell_type": "code",
   "execution_count": 58,
   "id": "2612e399",
   "metadata": {},
   "outputs": [
    {
     "data": {
      "text/plain": [
       "12500"
      ]
     },
     "execution_count": 58,
     "metadata": {},
     "output_type": "execute_result"
    }
   ],
   "source": [
    "len(y_test)"
   ]
  },
  {
   "cell_type": "code",
   "execution_count": 75,
   "id": "67c15c62",
   "metadata": {},
   "outputs": [
    {
     "data": {
      "text/plain": [
       "array([[11555,   138],\n",
       "       [  791,    16]], dtype=int64)"
      ]
     },
     "execution_count": 75,
     "metadata": {},
     "output_type": "execute_result"
    }
   ],
   "source": [
    "confusion_matrix(y_test,cb_naive_model_result)#When scale_pos_weight was 5"
   ]
  },
  {
   "cell_type": "code",
   "execution_count": 84,
   "id": "e47375a5",
   "metadata": {},
   "outputs": [
    {
     "data": {
      "text/plain": [
       "array([[9803, 1890],\n",
       "       [ 580,  227]], dtype=int64)"
      ]
     },
     "execution_count": 84,
     "metadata": {},
     "output_type": "execute_result"
    }
   ],
   "source": [
    "confusion_matrix(y_test,cb_naive_model_result) #class_weights=[1,10]"
   ]
  },
  {
   "cell_type": "code",
   "execution_count": 90,
   "id": "7a6a6776",
   "metadata": {},
   "outputs": [
    {
     "data": {
      "text/plain": [
       "array([[6338, 5355],\n",
       "       [ 289,  518]], dtype=int64)"
      ]
     },
     "execution_count": 90,
     "metadata": {},
     "output_type": "execute_result"
    }
   ],
   "source": [
    "confusion_matrix(y_test,cb_naive_model_result)#When scale_pos_weight was 20"
   ]
  },
  {
   "cell_type": "code",
   "execution_count": 96,
   "id": "e0199dfd",
   "metadata": {},
   "outputs": [
    {
     "data": {
      "text/plain": [
       "array([[4569, 7124],\n",
       "       [ 178,  629]], dtype=int64)"
      ]
     },
     "execution_count": 96,
     "metadata": {},
     "output_type": "execute_result"
    }
   ],
   "source": [
    "confusion_matrix(y_test,cb_naive_model_result)#When scale_pos_weight was 30"
   ]
  },
  {
   "cell_type": "code",
   "execution_count": 102,
   "id": "384b4aa8",
   "metadata": {},
   "outputs": [
    {
     "data": {
      "text/plain": [
       "array([[7710, 3983],\n",
       "       [ 394,  413]], dtype=int64)"
      ]
     },
     "execution_count": 102,
     "metadata": {},
     "output_type": "execute_result"
    }
   ],
   "source": [
    "confusion_matrix(y_test,cb_naive_model_result) #class_weights=[1,15]"
   ]
  },
  {
   "cell_type": "code",
   "execution_count": 110,
   "id": "88279459",
   "metadata": {},
   "outputs": [
    {
     "data": {
      "text/plain": [
       "array([[5396, 6297],\n",
       "       [ 215,  592]], dtype=int64)"
      ]
     },
     "execution_count": 110,
     "metadata": {},
     "output_type": "execute_result"
    }
   ],
   "source": [
    "confusion_matrix(y_test,cb_naive_model_result) #class_weights=[1,25]"
   ]
  },
  {
   "cell_type": "code",
   "execution_count": 62,
   "id": "289a6abf",
   "metadata": {},
   "outputs": [
    {
     "data": {
      "text/plain": [
       "array([0, 0, 0, ..., 0, 0, 0], dtype=int64)"
      ]
     },
     "execution_count": 62,
     "metadata": {},
     "output_type": "execute_result"
    }
   ],
   "source": [
    "cb_naive_model_result"
   ]
  },
  {
   "cell_type": "code",
   "execution_count": 66,
   "id": "f8b449d0",
   "metadata": {},
   "outputs": [
    {
     "data": {
      "text/plain": [
       "array([0, 1], dtype=int64)"
      ]
     },
     "execution_count": 66,
     "metadata": {},
     "output_type": "execute_result"
    }
   ],
   "source": [
    "pd.Series(cb_naive_model_result).unique()"
   ]
  },
  {
   "cell_type": "code",
   "execution_count": 67,
   "id": "1d605076",
   "metadata": {},
   "outputs": [
    {
     "data": {
      "text/plain": [
       "12498"
      ]
     },
     "execution_count": 67,
     "metadata": {},
     "output_type": "execute_result"
    }
   ],
   "source": [
    " np.count_nonzero(cb_naive_model_result == 0)"
   ]
  },
  {
   "cell_type": "code",
   "execution_count": 68,
   "id": "0210d841",
   "metadata": {},
   "outputs": [
    {
     "data": {
      "text/plain": [
       "2"
      ]
     },
     "execution_count": 68,
     "metadata": {},
     "output_type": "execute_result"
    }
   ],
   "source": [
    " np.count_nonzero(cb_naive_model_result == 1)"
   ]
  },
  {
   "cell_type": "code",
   "execution_count": 69,
   "id": "a65cee25",
   "metadata": {},
   "outputs": [
    {
     "data": {
      "text/plain": [
       "0.0"
      ]
     },
     "execution_count": 69,
     "metadata": {},
     "output_type": "execute_result"
    }
   ],
   "source": [
    "f1_score(y_test,cb_naive_model_result) #Naive model f1-score"
   ]
  },
  {
   "cell_type": "code",
   "execution_count": 76,
   "id": "cc7cc519",
   "metadata": {},
   "outputs": [
    {
     "data": {
      "text/plain": [
       "0.03329864724245578"
      ]
     },
     "execution_count": 76,
     "metadata": {},
     "output_type": "execute_result"
    }
   ],
   "source": [
    "f1_score(y_test,cb_naive_model_result) #when scale_pos_weight was 5"
   ]
  },
  {
   "cell_type": "code",
   "execution_count": 85,
   "id": "ed46eaea",
   "metadata": {},
   "outputs": [
    {
     "data": {
      "text/plain": [
       "0.15526675786593708"
      ]
     },
     "execution_count": 85,
     "metadata": {},
     "output_type": "execute_result"
    }
   ],
   "source": [
    "f1_score(y_test,cb_naive_model_result) #class_weights=[1,10]"
   ]
  },
  {
   "cell_type": "code",
   "execution_count": 91,
   "id": "15c49361",
   "metadata": {},
   "outputs": [
    {
     "data": {
      "text/plain": [
       "0.15508982035928143"
      ]
     },
     "execution_count": 91,
     "metadata": {},
     "output_type": "execute_result"
    }
   ],
   "source": [
    "f1_score(y_test,cb_naive_model_result) #when scale_pos_weight was 20"
   ]
  },
  {
   "cell_type": "code",
   "execution_count": 97,
   "id": "5c7e6673",
   "metadata": {},
   "outputs": [
    {
     "data": {
      "text/plain": [
       "0.1469626168224299"
      ]
     },
     "execution_count": 97,
     "metadata": {},
     "output_type": "execute_result"
    }
   ],
   "source": [
    "f1_score(y_test,cb_naive_model_result) #when scale_pos_weight was 30"
   ]
  },
  {
   "cell_type": "code",
   "execution_count": 103,
   "id": "4eacc0ae",
   "metadata": {},
   "outputs": [
    {
     "data": {
      "text/plain": [
       "0.1587545646742264"
      ]
     },
     "execution_count": 103,
     "metadata": {},
     "output_type": "execute_result"
    }
   ],
   "source": [
    "f1_score(y_test,cb_naive_model_result) #class_weights=[1,15]"
   ]
  },
  {
   "cell_type": "code",
   "execution_count": 111,
   "id": "ff9082e9",
   "metadata": {},
   "outputs": [
    {
     "data": {
      "text/plain": [
       "0.15384615384615383"
      ]
     },
     "execution_count": 111,
     "metadata": {},
     "output_type": "execute_result"
    }
   ],
   "source": [
    "f1_score(y_test,cb_naive_model_result) #class_weights=[1,25]"
   ]
  },
  {
   "cell_type": "markdown",
   "id": "4d4bc771",
   "metadata": {},
   "source": [
    "## Performing prediction on actual test data"
   ]
  },
  {
   "cell_type": "code",
   "execution_count": 112,
   "id": "38cc4d43",
   "metadata": {},
   "outputs": [],
   "source": [
    "df_test=pd.read_csv('test_Inceptez20.csv')"
   ]
  },
  {
   "cell_type": "code",
   "execution_count": 113,
   "id": "71c0b96b",
   "metadata": {},
   "outputs": [
    {
     "data": {
      "text/plain": [
       "(8592, 43)"
      ]
     },
     "execution_count": 113,
     "metadata": {},
     "output_type": "execute_result"
    }
   ],
   "source": [
    "df_test.shape"
   ]
  },
  {
   "cell_type": "code",
   "execution_count": 118,
   "id": "8e5c1a49",
   "metadata": {},
   "outputs": [],
   "source": [
    "df_test.drop('policy_id',axis=1,inplace=True)"
   ]
  },
  {
   "cell_type": "code",
   "execution_count": 119,
   "id": "a55d3adb",
   "metadata": {},
   "outputs": [],
   "source": [
    "test_result=cb_naive_model.predict(df_test)"
   ]
  },
  {
   "cell_type": "code",
   "execution_count": 121,
   "id": "e4ada14a",
   "metadata": {},
   "outputs": [
    {
     "data": {
      "text/plain": [
       "(8592,)"
      ]
     },
     "execution_count": 121,
     "metadata": {},
     "output_type": "execute_result"
    }
   ],
   "source": [
    "test_result.shape"
   ]
  },
  {
   "cell_type": "code",
   "execution_count": 123,
   "id": "a5c2f039",
   "metadata": {},
   "outputs": [],
   "source": [
    "test_result_df=pd.DataFrame(test_result,columns=['is_claim'])\n",
    "# test_result"
   ]
  },
  {
   "cell_type": "code",
   "execution_count": 125,
   "id": "05ab8b1e",
   "metadata": {},
   "outputs": [],
   "source": [
    "test_result_df.to_csv('CB_submission1.csv')"
   ]
  }
 ],
 "metadata": {
  "kernelspec": {
   "display_name": "Python 3 (ipykernel)",
   "language": "python",
   "name": "python3"
  },
  "language_info": {
   "codemirror_mode": {
    "name": "ipython",
    "version": 3
   },
   "file_extension": ".py",
   "mimetype": "text/x-python",
   "name": "python",
   "nbconvert_exporter": "python",
   "pygments_lexer": "ipython3",
   "version": "3.10.9"
  }
 },
 "nbformat": 4,
 "nbformat_minor": 5
}
