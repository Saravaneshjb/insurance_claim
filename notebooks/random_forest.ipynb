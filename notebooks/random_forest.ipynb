{
 "cells": [
  {
   "cell_type": "code",
   "execution_count": 1,
   "id": "f0d1555b",
   "metadata": {},
   "outputs": [],
   "source": [
    "import pandas as pd\n",
    "import numpy as np\n",
    "import seaborn as sns\n",
    "import matplotlib.pyplot as plt\n",
    "from sklearn.ensemble import RandomForestClassifier\n",
    "from sklearn.model_selection import train_test_split\n",
    "from sklearn.metrics import accuracy_score,f1_score,confusion_matrix"
   ]
  },
  {
   "cell_type": "code",
   "execution_count": 11,
   "id": "b0207dfa",
   "metadata": {},
   "outputs": [],
   "source": [
    "train_df=pd.read_csv('D:\\\\Saravanesh Personal\\\\Inceptez\\\\Hackathon\\\\ML Hackathon\\\\encoded_datasets\\\\encoded_train_df.csv')\n",
    "val_df=pd.read_csv('D:\\\\Saravanesh Personal\\\\Inceptez\\\\Hackathon\\\\ML Hackathon\\\\encoded_datasets\\\\encoded_val_df.csv')\n",
    "test_df=pd.read_csv('D:\\\\Saravanesh Personal\\\\Inceptez\\\\Hackathon\\\\ML Hackathon\\\\encoded_datasets\\\\encoded_test_df.csv')"
   ]
  },
  {
   "cell_type": "code",
   "execution_count": 12,
   "id": "f037926e",
   "metadata": {},
   "outputs": [
    {
     "data": {
      "text/plain": [
       "(37500, 45)"
      ]
     },
     "execution_count": 12,
     "metadata": {},
     "output_type": "execute_result"
    }
   ],
   "source": [
    "train_df.shape"
   ]
  },
  {
   "cell_type": "code",
   "execution_count": 37,
   "id": "b126ac50",
   "metadata": {},
   "outputs": [
    {
     "data": {
      "text/plain": [
       "Index(['area_cluster', 'segment', 'model', 'engine_type', 'policy_tenure',\n",
       "       'age_of_car', 'age_of_policyholder', 'population_density', 'make',\n",
       "       'airbags', 'displacement', 'cylinder', 'gear_box', 'turning_radius',\n",
       "       'length', 'width', 'height', 'gross_weight', 'ncap_rating', 'is_claim',\n",
       "       'max_torque', 'max_power', 'fuel_type_Diesel', 'fuel_type_Petrol',\n",
       "       'is_esc_Yes', 'is_adjustable_steering_Yes', 'is_tpms_Yes',\n",
       "       'is_parking_sensors_Yes', 'is_parking_camera_Yes',\n",
       "       'rear_brakes_type_Drum', 'transmission_type_Manual',\n",
       "       'steering_type_Manual', 'steering_type_Power',\n",
       "       'is_front_fog_lights_Yes', 'is_rear_window_wiper_Yes',\n",
       "       'is_rear_window_washer_Yes', 'is_rear_window_defogger_Yes',\n",
       "       'is_brake_assist_Yes', 'is_power_door_locks_Yes',\n",
       "       'is_central_locking_Yes', 'is_power_steering_Yes',\n",
       "       'is_driver_seat_height_adjustable_Yes',\n",
       "       'is_day_night_rear_view_mirror_Yes', 'is_ecw_Yes',\n",
       "       'is_speed_alert_Yes'],\n",
       "      dtype='object')"
      ]
     },
     "execution_count": 37,
     "metadata": {},
     "output_type": "execute_result"
    }
   ],
   "source": [
    "train_df.columns"
   ]
  },
  {
   "cell_type": "code",
   "execution_count": 13,
   "id": "c3a7ee28",
   "metadata": {},
   "outputs": [
    {
     "data": {
      "text/plain": [
       "(12500, 45)"
      ]
     },
     "execution_count": 13,
     "metadata": {},
     "output_type": "execute_result"
    }
   ],
   "source": [
    "val_df.shape"
   ]
  },
  {
   "cell_type": "code",
   "execution_count": 14,
   "id": "fb37832d",
   "metadata": {},
   "outputs": [
    {
     "data": {
      "text/plain": [
       "(8592, 44)"
      ]
     },
     "execution_count": 14,
     "metadata": {},
     "output_type": "execute_result"
    }
   ],
   "source": [
    "test_df.shape"
   ]
  },
  {
   "cell_type": "code",
   "execution_count": 38,
   "id": "ba30e44f",
   "metadata": {},
   "outputs": [
    {
     "data": {
      "text/plain": [
       "Index(['area_cluster', 'segment', 'model', 'engine_type', 'policy_tenure',\n",
       "       'age_of_car', 'age_of_policyholder', 'population_density', 'make',\n",
       "       'airbags', 'displacement', 'cylinder', 'gear_box', 'turning_radius',\n",
       "       'length', 'width', 'height', 'gross_weight', 'ncap_rating',\n",
       "       'max_torque', 'max_power', 'fuel_type_Diesel', 'fuel_type_Petrol',\n",
       "       'is_esc_Yes', 'is_adjustable_steering_Yes', 'is_tpms_Yes',\n",
       "       'is_parking_sensors_Yes', 'is_parking_camera_Yes',\n",
       "       'rear_brakes_type_Drum', 'transmission_type_Manual',\n",
       "       'steering_type_Manual', 'steering_type_Power',\n",
       "       'is_front_fog_lights_Yes', 'is_rear_window_wiper_Yes',\n",
       "       'is_rear_window_washer_Yes', 'is_rear_window_defogger_Yes',\n",
       "       'is_brake_assist_Yes', 'is_power_door_locks_Yes',\n",
       "       'is_central_locking_Yes', 'is_power_steering_Yes',\n",
       "       'is_driver_seat_height_adjustable_Yes',\n",
       "       'is_day_night_rear_view_mirror_Yes', 'is_ecw_Yes',\n",
       "       'is_speed_alert_Yes'],\n",
       "      dtype='object')"
      ]
     },
     "execution_count": 38,
     "metadata": {},
     "output_type": "execute_result"
    }
   ],
   "source": [
    "test_df.columns"
   ]
  },
  {
   "cell_type": "markdown",
   "id": "ee108dec",
   "metadata": {},
   "source": [
    "### Perform train,test split - Validation"
   ]
  },
  {
   "cell_type": "code",
   "execution_count": 41,
   "id": "83a79819",
   "metadata": {},
   "outputs": [],
   "source": [
    "X_train=train_df.drop(labels=['is_claim'],axis=1)\n",
    "y_train=train_df['is_claim']"
   ]
  },
  {
   "cell_type": "code",
   "execution_count": 42,
   "id": "e47a629a",
   "metadata": {},
   "outputs": [
    {
     "data": {
      "text/plain": [
       "0        0\n",
       "1        0\n",
       "2        0\n",
       "3        0\n",
       "4        0\n",
       "        ..\n",
       "37495    0\n",
       "37496    0\n",
       "37497    0\n",
       "37498    0\n",
       "37499    0\n",
       "Name: is_claim, Length: 37500, dtype: int64"
      ]
     },
     "execution_count": 42,
     "metadata": {},
     "output_type": "execute_result"
    }
   ],
   "source": [
    "y_train"
   ]
  },
  {
   "cell_type": "code",
   "execution_count": 43,
   "id": "5538e6f0",
   "metadata": {},
   "outputs": [],
   "source": [
    "X_val=val_df.drop(labels=['is_claim'],axis=1)\n",
    "y_val=val_df['is_claim']"
   ]
  },
  {
   "cell_type": "code",
   "execution_count": 45,
   "id": "203e6b1e",
   "metadata": {},
   "outputs": [
    {
     "data": {
      "text/plain": [
       "0        0\n",
       "1        0\n",
       "2        0\n",
       "3        0\n",
       "4        0\n",
       "        ..\n",
       "12495    0\n",
       "12496    1\n",
       "12497    0\n",
       "12498    0\n",
       "12499    0\n",
       "Name: is_claim, Length: 12500, dtype: int64"
      ]
     },
     "execution_count": 45,
     "metadata": {},
     "output_type": "execute_result"
    }
   ],
   "source": [
    "y_val"
   ]
  },
  {
   "cell_type": "code",
   "execution_count": 44,
   "id": "ddd9fcb3",
   "metadata": {
    "scrolled": true
   },
   "outputs": [
    {
     "name": "stdout",
     "output_type": "stream",
     "text": [
      "(37500, 44)\n",
      "(37500,)\n",
      "(12500, 44)\n",
      "(12500,)\n"
     ]
    }
   ],
   "source": [
    "print(X_train.shape)\n",
    "print(y_train.shape)\n",
    "print(X_val.shape)\n",
    "print(y_val.shape)"
   ]
  },
  {
   "cell_type": "markdown",
   "id": "29f2b53f",
   "metadata": {},
   "source": [
    "## Naive Random forest model"
   ]
  },
  {
   "cell_type": "code",
   "execution_count": 46,
   "id": "f165ad82",
   "metadata": {},
   "outputs": [],
   "source": [
    "rf1=RandomForestClassifier()"
   ]
  },
  {
   "cell_type": "code",
   "execution_count": 47,
   "id": "18604633",
   "metadata": {},
   "outputs": [],
   "source": [
    "rf_model1=rf1.fit(X_train,y_train)"
   ]
  },
  {
   "cell_type": "code",
   "execution_count": 48,
   "id": "5618c544",
   "metadata": {},
   "outputs": [],
   "source": [
    "rf_model1_result=rf_model1.predict(X_val)"
   ]
  },
  {
   "cell_type": "code",
   "execution_count": 49,
   "id": "ea67a6b4",
   "metadata": {},
   "outputs": [
    {
     "data": {
      "text/plain": [
       "array([0, 0, 0, ..., 0, 0, 0], dtype=int64)"
      ]
     },
     "execution_count": 49,
     "metadata": {},
     "output_type": "execute_result"
    }
   ],
   "source": [
    "rf_model1_result"
   ]
  },
  {
   "cell_type": "code",
   "execution_count": 50,
   "id": "1eb2413a",
   "metadata": {},
   "outputs": [
    {
     "data": {
      "text/plain": [
       "array([[11692,     1],\n",
       "       [  806,     1]], dtype=int64)"
      ]
     },
     "execution_count": 50,
     "metadata": {},
     "output_type": "execute_result"
    }
   ],
   "source": [
    "confusion_matrix(y_val,rf_model1_result)"
   ]
  },
  {
   "cell_type": "code",
   "execution_count": 51,
   "id": "53e6caa9",
   "metadata": {},
   "outputs": [
    {
     "data": {
      "text/plain": [
       "0.002472187886279357"
      ]
     },
     "execution_count": 51,
     "metadata": {},
     "output_type": "execute_result"
    }
   ],
   "source": [
    "f1_score(y_val,rf_model1_result)"
   ]
  },
  {
   "cell_type": "code",
   "execution_count": 52,
   "id": "0027aeb8",
   "metadata": {},
   "outputs": [
    {
     "name": "stdout",
     "output_type": "stream",
     "text": [
      "Number of 1s: 2\n",
      "Number of 0s: 12498\n"
     ]
    }
   ],
   "source": [
    "count_1 = np.count_nonzero(rf_model1_result == 1)\n",
    "count_0 = np.count_nonzero(rf_model1_result == 0)\n",
    "print(\"Number of 1s:\", count_1)\n",
    "print(\"Number of 0s:\", count_0)"
   ]
  },
  {
   "cell_type": "markdown",
   "id": "eaecdf24",
   "metadata": {},
   "source": [
    "### Setting class_weight = 'balanced'"
   ]
  },
  {
   "cell_type": "code",
   "execution_count": 53,
   "id": "fdce963b",
   "metadata": {},
   "outputs": [],
   "source": [
    "rf2=RandomForestClassifier(class_weight='balanced')"
   ]
  },
  {
   "cell_type": "code",
   "execution_count": 54,
   "id": "2c82c9f0",
   "metadata": {},
   "outputs": [],
   "source": [
    "rf_model2=rf2.fit(X_train,y_train)"
   ]
  },
  {
   "cell_type": "code",
   "execution_count": 55,
   "id": "840b972c",
   "metadata": {},
   "outputs": [],
   "source": [
    "rf_model2_result=rf_model2.predict(X_val)"
   ]
  },
  {
   "cell_type": "code",
   "execution_count": 56,
   "id": "2cab052e",
   "metadata": {},
   "outputs": [
    {
     "data": {
      "text/plain": [
       "array([[11693,     0],\n",
       "       [  807,     0]], dtype=int64)"
      ]
     },
     "execution_count": 56,
     "metadata": {},
     "output_type": "execute_result"
    }
   ],
   "source": [
    "confusion_matrix(y_val,rf_model2_result)"
   ]
  },
  {
   "cell_type": "code",
   "execution_count": 58,
   "id": "c0ea287b",
   "metadata": {},
   "outputs": [
    {
     "data": {
      "text/plain": [
       "0.0"
      ]
     },
     "execution_count": 58,
     "metadata": {},
     "output_type": "execute_result"
    }
   ],
   "source": [
    "f1_score(y_val,rf_model2_result)"
   ]
  }
 ],
 "metadata": {
  "kernelspec": {
   "display_name": "Python 3 (ipykernel)",
   "language": "python",
   "name": "python3"
  },
  "language_info": {
   "codemirror_mode": {
    "name": "ipython",
    "version": 3
   },
   "file_extension": ".py",
   "mimetype": "text/x-python",
   "name": "python",
   "nbconvert_exporter": "python",
   "pygments_lexer": "ipython3",
   "version": "3.10.9"
  }
 },
 "nbformat": 4,
 "nbformat_minor": 5
}
